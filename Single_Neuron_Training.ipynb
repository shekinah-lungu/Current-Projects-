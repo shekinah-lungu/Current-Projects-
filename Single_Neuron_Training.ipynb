{
 "cells": [
  {
   "cell_type": "markdown",
   "metadata": {},
   "source": [
    "Training a single Neuron on Binary OR data and Breast Cancer Dataset "
   ]
  },
  {
   "cell_type": "markdown",
   "metadata": {},
   "source": [
    "Training for Binary OR"
   ]
  },
  {
   "cell_type": "code",
   "execution_count": 35,
   "metadata": {},
   "outputs": [],
   "source": [
    "import numpy as np"
   ]
  },
  {
   "cell_type": "code",
   "execution_count": 36,
   "metadata": {},
   "outputs": [
    {
     "name": "stdout",
     "output_type": "stream",
     "text": [
      "[[0 0 1]\n",
      " [0 1 1]\n",
      " [1 0 1]\n",
      " [1 1 1]]\n"
     ]
    }
   ],
   "source": [
    "# Testing your code:\n",
    "# learn the binary OR function\n",
    "# we added an extra 1 to remove bias\n",
    "# you can try removing the extra 1 to see how the accuracy is affected.\n",
    "OR_X = np.array([[0,0,1], [0,1,1],[1,0,1],[1,1,1]])\n",
    "OR_Y = np.array([0,1,1,1])\n",
    "#perceptron_training(OR_X,OR_Y, .2, 100)\n",
    "print(OR_X)\n",
    "\n"
   ]
  },
  {
   "cell_type": "code",
   "execution_count": 56,
   "metadata": {},
   "outputs": [
    {
     "data": {
      "text/plain": [
       "array([0.70175399, 0.57615704, 0.86172406])"
      ]
     },
     "execution_count": 56,
     "metadata": {},
     "output_type": "execute_result"
    }
   ],
   "source": [
    "#initializing the weights for the neuron\n",
    "def InitWeight(X):\n",
    "    W = np.random.rand(X.shape[1])\n",
    "    return W\n",
    "W = InitWeight(OR_X)\n",
    "W"
   ]
  },
  {
   "cell_type": "code",
   "execution_count": 65,
   "metadata": {},
   "outputs": [
    {
     "name": "stdout",
     "output_type": "stream",
     "text": [
      "6\n"
     ]
    }
   ],
   "source": [
    "#weighted sum is the same as the dot product of the two matrices \n",
    "def WeightedSUM(W,X):\n",
    "    w_sum = np.dot(X,W)\n",
    "    return w_sum\n",
    "t1 = np.array([1,1,1])\n",
    "t2 = np.array([2,2,2])\n",
    "print(WeightedSUM(t1, t2))"
   ]
  },
  {
   "cell_type": "code",
   "execution_count": 58,
   "metadata": {},
   "outputs": [],
   "source": [
    "def UnitStep(w_sum):\n",
    "    return 1 if w_sum >= 0 else 0"
   ]
  },
  {
   "cell_type": "code",
   "execution_count": 59,
   "metadata": {},
   "outputs": [],
   "source": [
    "def ComputeError(Y, Y_pred):\n",
    "    return Y - Y_pred"
   ]
  },
  {
   "cell_type": "code",
   "execution_count": 60,
   "metadata": {},
   "outputs": [],
   "source": [
    "def UpdateWeight(w,eta,error,x):\n",
    "    return w + eta*error*x"
   ]
  },
  {
   "cell_type": "code",
   "execution_count": 61,
   "metadata": {},
   "outputs": [],
   "source": [
    "def ComputeAccuracy(X,Y,w):\n",
    "    correct_predictions = 0\n",
    "    for x,y in zip(X,Y):\n",
    "        w_sum = WeightedSUM(w,x)\n",
    "        y_pred = UnitStep(w_sum)\n",
    "        if y_pred == y:\n",
    "            correct_predictions +=1\n",
    "    return correct_predictions/len(Y)\n"
   ]
  },
  {
   "cell_type": "code",
   "execution_count": 62,
   "metadata": {},
   "outputs": [],
   "source": [
    "import matplotlib.pyplot as plt\n",
    "def PlotAccuracy(accuracy):\n",
    "    plt.plot(accuracy)"
   ]
  },
  {
   "cell_type": "code",
   "execution_count": 63,
   "metadata": {},
   "outputs": [],
   "source": [
    "def perceptron_training(X,Y, eta, epochs):\n",
    "    \n",
    "    #Task 1: randomly initialize the weights  \n",
    "    w = InitWeight(X) \n",
    "    \n",
    "    accuracy = []\n",
    "    # Run iterations\n",
    "    for i in range(epochs):\n",
    "        # in every iteration train for every training examples\n",
    "        for x, y in zip(X, Y):\n",
    "            \n",
    "            # Task 2: Compute weighted sum based on w and x\n",
    "            w_sum = WeightedSUM(w,x)\n",
    "            # Task 3: Use a step function to get the predicted output \n",
    "            y_pred = UnitStep(w_sum) \n",
    "            # Task 3: Compute error (predicted-expected output)\n",
    "            error = ComputeError(y,y_pred) \n",
    "            # Task 4: update weights\n",
    "            w = UpdateWeight(w,eta,error,x) \n",
    "\n",
    "        # Task 5: Compute accuracy of your current model\n",
    "        # The accuracy computation is similar to the above operation (except that you don't update weights)\n",
    "        # The accuracy should be normalized (0 <= accuracy <= 1)\n",
    "        acc = ComputeAccuracy(X,Y,w)\n",
    "        # write this ComputeAccuracy function (you can use WeightedSUM and UnitStep functions)\n",
    "        accuracy.append(acc)\n",
    "    PlotAccuracy(accuracy)\n",
    "     \n"
   ]
  },
  {
   "cell_type": "code",
   "execution_count": 64,
   "metadata": {},
   "outputs": [
    {
     "data": {
      "image/png": "[encoded data removed]",
      "text/plain": [
       "<Figure size 432x288 with 1 Axes>"
      ]
     },
     "metadata": {
      "needs_background": "light"
     },
     "output_type": "display_data"
    }
   ],
   "source": [
    "perceptron_training(OR_X, OR_Y, 0.5, 10)"
   ]
  },
  {
   "cell_type": "markdown",
   "metadata": {},
   "source": [
    "Training one perceptrone on cancer dataset"
   ]
  },
  {
   "cell_type": "code",
   "execution_count": 66,
   "metadata": {},
   "outputs": [],
   "source": [
    "import sklearn.datasets\n",
    "\n",
    "# Load the breast cancer dataset\n",
    "breast_cancer = sklearn.datasets.load_breast_cancer()\n",
    "\n",
    "# Extract the data and target\n",
    "X = breast_cancer.data\n",
    "Y = breast_cancer.target"
   ]
  },
  {
   "cell_type": "code",
   "execution_count": 74,
   "metadata": {},
   "outputs": [
    {
     "name": "stdout",
     "output_type": "stream",
     "text": [
      "569\n"
     ]
    }
   ],
   "source": [
    "print(Y.shape[0])"
   ]
  },
  {
   "cell_type": "code",
   "execution_count": 79,
   "metadata": {},
   "outputs": [
    {
     "data": {
      "image/png": "[encoded data removed]",
      "text/plain": [
       "<Figure size 432x288 with 1 Axes>"
      ]
     },
     "metadata": {
      "needs_background": "light"
     },
     "output_type": "display_data"
    }
   ],
   "source": [
    "perceptron_training(X, Y, 0.001, 20)"
   ]
  },
  {
   "cell_type": "code",
   "execution_count": null,
   "metadata": {},
   "outputs": [],
   "source": []
  }
 ],
 "metadata": {
  "kernelspec": {
   "display_name": "Python 3",
   "language": "python",
   "name": "python3"
  },
  "language_info": {
   "codemirror_mode": {
    "name": "ipython",
    "version": 3
   },
   "file_extension": ".py",
   "mimetype": "text/x-python",
   "name": "python",
   "nbconvert_exporter": "python",
   "pygments_lexer": "ipython3",
   "version": "3.8.8"
  },
  "orig_nbformat": 4
 },
 "nbformat": 4,
 "nbformat_minor": 2
}
