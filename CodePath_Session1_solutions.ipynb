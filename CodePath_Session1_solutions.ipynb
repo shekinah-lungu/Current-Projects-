{
 "cells": [
  {
   "cell_type": "markdown",
   "metadata": {},
   "source": [
    "#I am doing the codepath problem set here "
   ]
  },
  {
   "cell_type": "markdown",
   "metadata": {},
   "source": [
    "Q1\n",
    "Given an array nums with n integers, write a function non_decreasing() that checks if nums could become non-decreasing by modifying at most one element.\n",
    "\n",
    "We define an array is non-decreasing if nums[i] <= nums[i + 1] holds for every i (0-based) such that (0 <= i <= n - 2)."
   ]
  },
  {
   "cell_type": "code",
   "execution_count": 8,
   "metadata": {},
   "outputs": [],
   "source": [
    "#Q1\n",
    "def non_decreasing(int_arr):\n",
    "    count = 0 #to keep track of the violations\n",
    "    #loop through the array to check if int_arr[i]< int_arr[i+1]\n",
    "    for i in range(len(int_arr)-1):\n",
    "        if int_arr[i] > int_arr[i+1]:\n",
    "            count +=1\n",
    "            if count > 1:\n",
    "                return False \n",
    "            if i > 0 and int_arr[i-1] < int_arr[i+1]:\n",
    "                int_arr[i+1] = int_arr[i]\n",
    "            else:\n",
    "                int_arr[i] = int_arr[i+1]\n",
    "    return True"
   ]
  },
  {
   "cell_type": "code",
   "execution_count": 10,
   "metadata": {},
   "outputs": [
    {
     "name": "stdout",
     "output_type": "stream",
     "text": [
      "True\n",
      "False\n"
     ]
    }
   ],
   "source": [
    "#Q1 TEST\n",
    "nums = [4, 2, 3]\n",
    "print(non_decreasing(nums))\n",
    "\n",
    "nums = [4, 2, 1]\n",
    "print(non_decreasing(nums))"
   ]
  },
  {
   "cell_type": "markdown",
   "metadata": {},
   "source": [
    "Q2. Christopher Robin set up a scavenger hunt for Pooh, but it's a blustery day and several hidden clues have blown away. Write a function find_missing_clues() to help Christopher Robin figure out which clues he needs to remake. The function accepts two integers lower and upper and a unique integer array clues. All elements in clues are within the inclusive range [lower, upper].\n",
    "\n",
    "A clue x is considered missing if x is in the range [lower, upper] and x is not in clues.\n",
    "\n",
    "Return the shortest sorted list of ranges that exactly covers all the missing numbers. That is, no element of clues is included in any of the ranges, and each missing number is covered by one of the ranges."
   ]
  },
  {
   "cell_type": "code",
   "execution_count": 29,
   "metadata": {},
   "outputs": [],
   "source": [
    "def find_missing_clues(clues, lower, upper):\n",
    "   clues.sort() #assuming the array is not sorted \n",
    "   range_start = None\n",
    "   seen = set(clues)  #to have O(1) look up\n",
    "   new_clues = []\n",
    "   for i in range(lower, upper+1):\n",
    "        if i not in seen:\n",
    "            if range_start is None:\n",
    "                range_start = i\n",
    "        else:\n",
    "            if range_start is not None:\n",
    "                new_clues.append([range_start,i-1])\n",
    "                range_start = None\n",
    "   if range_start is not None:\n",
    "       new_clues.append([range_start, upper])\n",
    "\n",
    "        \n",
    "    \n",
    "   return new_clues"
   ]
  },
  {
   "cell_type": "code",
   "execution_count": 31,
   "metadata": {},
   "outputs": [
    {
     "name": "stdout",
     "output_type": "stream",
     "text": [
      "[[2, 2], [4, 49], [51, 74], [76, 99]]\n",
      "[]\n"
     ]
    }
   ],
   "source": [
    "clues = [0, 1, 3, 50, 75]\n",
    "lower = 0\n",
    "upper = 99\n",
    "print(find_missing_clues(clues, lower, upper))\n",
    "\n",
    "clues = [-1]\n",
    "lower = -1\n",
    "upper = -1\n",
    "print(find_missing_clues(clues, lower, upper))"
   ]
  },
  {
   "cell_type": "markdown",
   "metadata": {},
   "source": [
    "Q3. Problem 6: Vegetable Harvest\n",
    "Rabbit is collecting carrots from his garden to make a feast for Pooh and friends. Write a function harvest() that accepts a 2D n x m matrix vegetable_patch and returns the number of of carrots that are ready to harvest in the vegetable patch. A carrot is ready to harvest if vegetable_patch[i][j] has value 'c'.\n",
    "\n",
    "Assume n = len(vegetable_patch) and m = len(vegetable_patch[0]). 0 <= i < n and 0 <= j < m."
   ]
  },
  {
   "cell_type": "code",
   "execution_count": 45,
   "metadata": {},
   "outputs": [],
   "source": [
    "def harvest(vegetable_patch):\n",
    "\tc = 0\n",
    "\tfor row in vegetable_patch:\n",
    "\t\tfor cell in row:\n",
    "\t\t\tif cell == \"c\":\n",
    "\t\t\t\tc +=1\n",
    "\treturn c"
   ]
  },
  {
   "cell_type": "code",
   "execution_count": 46,
   "metadata": {},
   "outputs": [
    {
     "name": "stdout",
     "output_type": "stream",
     "text": [
      "6\n"
     ]
    }
   ],
   "source": [
    "vegetable_patch = [\n",
    "\t['x', 'c', 'x'],\n",
    "\t['x', 'x', 'x'],\n",
    "\t['x', 'c', 'c'],\n",
    "\t['c', 'c', 'c']\n",
    "]\n",
    "print(harvest(vegetable_patch))"
   ]
  }
 ],
 "metadata": {
  "kernelspec": {
   "display_name": "base",
   "language": "python",
   "name": "python3"
  },
  "language_info": {
   "codemirror_mode": {
    "name": "ipython",
    "version": 3
   },
   "file_extension": ".py",
   "mimetype": "text/x-python",
   "name": "python",
   "nbconvert_exporter": "python",
   "pygments_lexer": "ipython3",
   "version": "3.8.8"
  },
  "orig_nbformat": 4
 },
 "nbformat": 4,
 "nbformat_minor": 2
}
