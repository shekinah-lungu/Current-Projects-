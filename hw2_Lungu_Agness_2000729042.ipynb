{
 "cells": [
  {
   "cell_type": "markdown",
   "metadata": {},
   "source": [
    "You are given a task for students’ final grades prediction. You can start with loading the student performance\n",
    "data csv file.\n",
    "• Use the closed-form method to estimate the parameters of a linear regression model where Final Grade\n",
    "is the target variable and the rest are predictors. Interpret the coefficients of the model. Which feature\n",
    "has the most significant impact on?\n",
    "• Check the assumptions of linear regression (linearity, independence, normality of residuals) using\n",
    "appropriate statistical tests and visualizations. If any of the assumptions are violated, explain how\n",
    "this could affect the model’s performance and what steps you could take to address these violations.\n",
    "• Implement gradient descent from scratch to optimize the parameters of your linear regression model.\n",
    "Compare the results to those obtained using the closed-form method. Discuss the impact of learning\n",
    "rate on the convergence of the gradient descent algorithm. What strategies could you employ to choose\n",
    "an appropriate learning rate?\n",
    "• Split the dataset into training and testing sets. Train your final model on the training set and evaluate\n",
    "its performance on the test set using metrics such as R-squared, Mean Absolute Error (MAE), and\n",
    "Mean Squared Error (MSE). Create a residual plot and explain what it reveals about the model’s\n",
    "performance. If necessary, suggest potential improvements.\n",
    "Hint: Remember some preprocessing might be necessary, like outlier checking, feature selection, etc. Check\n",
    "what a QQ plot is"
   ]
  },
  {
   "cell_type": "code",
   "execution_count": 60,
   "metadata": {},
   "outputs": [
    {
     "data": {
      "text/html": [
       "<div>\n",
       "<style scoped>\n",
       "    .dataframe tbody tr th:only-of-type {\n",
       "        vertical-align: middle;\n",
       "    }\n",
       "\n",
       "    .dataframe tbody tr th {\n",
       "        vertical-align: top;\n",
       "    }\n",
       "\n",
       "    .dataframe thead th {\n",
       "        text-align: right;\n",
       "    }\n",
       "</style>\n",
       "<table border=\"1\" class=\"dataframe\">\n",
       "  <thead>\n",
       "    <tr style=\"text-align: right;\">\n",
       "      <th></th>\n",
       "      <th>hours_studied</th>\n",
       "      <th>attendance_rate</th>\n",
       "      <th>homework_score</th>\n",
       "      <th>test_score</th>\n",
       "      <th>class_participation</th>\n",
       "      <th>study_group_participation</th>\n",
       "      <th>previous_grade</th>\n",
       "      <th>sleep_hours</th>\n",
       "      <th>age</th>\n",
       "      <th>gender</th>\n",
       "      <th>favorite_subject</th>\n",
       "      <th>final_grade</th>\n",
       "    </tr>\n",
       "  </thead>\n",
       "  <tbody>\n",
       "    <tr>\n",
       "      <th>0</th>\n",
       "      <td>4.370861</td>\n",
       "      <td>85.985866</td>\n",
       "      <td>3.318935</td>\n",
       "      <td>53.565660</td>\n",
       "      <td>22.677263</td>\n",
       "      <td>0</td>\n",
       "      <td>76.826280</td>\n",
       "      <td>8.536025</td>\n",
       "      <td>22</td>\n",
       "      <td>female</td>\n",
       "      <td>History</td>\n",
       "      <td>26.214684</td>\n",
       "    </tr>\n",
       "    <tr>\n",
       "      <th>1</th>\n",
       "      <td>9.556429</td>\n",
       "      <td>84.309472</td>\n",
       "      <td>30.394640</td>\n",
       "      <td>83.611770</td>\n",
       "      <td>66.652198</td>\n",
       "      <td>0</td>\n",
       "      <td>92.997036</td>\n",
       "      <td>6.713884</td>\n",
       "      <td>22</td>\n",
       "      <td>female</td>\n",
       "      <td>Science</td>\n",
       "      <td>44.589548</td>\n",
       "    </tr>\n",
       "    <tr>\n",
       "      <th>2</th>\n",
       "      <td>7.587945</td>\n",
       "      <td>80.507540</td>\n",
       "      <td>65.316279</td>\n",
       "      <td>82.138836</td>\n",
       "      <td>8.010573</td>\n",
       "      <td>0</td>\n",
       "      <td>60.651766</td>\n",
       "      <td>4.259022</td>\n",
       "      <td>19</td>\n",
       "      <td>female</td>\n",
       "      <td>Math</td>\n",
       "      <td>46.892416</td>\n",
       "    </tr>\n",
       "    <tr>\n",
       "      <th>3</th>\n",
       "      <td>6.387926</td>\n",
       "      <td>69.226792</td>\n",
       "      <td>93.830482</td>\n",
       "      <td>84.332617</td>\n",
       "      <td>44.183370</td>\n",
       "      <td>0</td>\n",
       "      <td>80.388922</td>\n",
       "      <td>5.857604</td>\n",
       "      <td>21</td>\n",
       "      <td>male</td>\n",
       "      <td>Science</td>\n",
       "      <td>57.301882</td>\n",
       "    </tr>\n",
       "    <tr>\n",
       "      <th>4</th>\n",
       "      <td>2.404168</td>\n",
       "      <td>67.061121</td>\n",
       "      <td>87.120448</td>\n",
       "      <td>48.509466</td>\n",
       "      <td>16.336676</td>\n",
       "      <td>1</td>\n",
       "      <td>54.189549</td>\n",
       "      <td>5.920661</td>\n",
       "      <td>18</td>\n",
       "      <td>male</td>\n",
       "      <td>Literature</td>\n",
       "      <td>37.824042</td>\n",
       "    </tr>\n",
       "  </tbody>\n",
       "</table>\n",
       "</div>"
      ],
      "text/plain": [
       "   hours_studied  attendance_rate  homework_score  test_score  \\\n",
       "0       4.370861        85.985866        3.318935   53.565660   \n",
       "1       9.556429        84.309472       30.394640   83.611770   \n",
       "2       7.587945        80.507540       65.316279   82.138836   \n",
       "3       6.387926        69.226792       93.830482   84.332617   \n",
       "4       2.404168        67.061121       87.120448   48.509466   \n",
       "\n",
       "   class_participation  study_group_participation  previous_grade  \\\n",
       "0            22.677263                          0       76.826280   \n",
       "1            66.652198                          0       92.997036   \n",
       "2             8.010573                          0       60.651766   \n",
       "3            44.183370                          0       80.388922   \n",
       "4            16.336676                          1       54.189549   \n",
       "\n",
       "   sleep_hours  age  gender favorite_subject  final_grade  \n",
       "0     8.536025   22  female          History    26.214684  \n",
       "1     6.713884   22  female          Science    44.589548  \n",
       "2     4.259022   19  female             Math    46.892416  \n",
       "3     5.857604   21    male          Science    57.301882  \n",
       "4     5.920661   18    male       Literature    37.824042  "
      ]
     },
     "execution_count": 60,
     "metadata": {},
     "output_type": "execute_result"
    }
   ],
   "source": [
    "import pandas as pd\n",
    "#reading the data \n",
    "student_data_path = \"/Users/agnesslungu/Downloads/student_grades.csv\"\n",
    "student_data = pd.read_csv(student_data_path)\n",
    "student_data.head()"
   ]
  },
  {
   "cell_type": "code",
   "execution_count": 2,
   "metadata": {},
   "outputs": [
    {
     "data": {
      "text/html": [
       "<div>\n",
       "<style scoped>\n",
       "    .dataframe tbody tr th:only-of-type {\n",
       "        vertical-align: middle;\n",
       "    }\n",
       "\n",
       "    .dataframe tbody tr th {\n",
       "        vertical-align: top;\n",
       "    }\n",
       "\n",
       "    .dataframe thead th {\n",
       "        text-align: right;\n",
       "    }\n",
       "</style>\n",
       "<table border=\"1\" class=\"dataframe\">\n",
       "  <thead>\n",
       "    <tr style=\"text-align: right;\">\n",
       "      <th></th>\n",
       "      <th>hours_studied</th>\n",
       "      <th>attendance_rate</th>\n",
       "      <th>homework_score</th>\n",
       "      <th>test_score</th>\n",
       "      <th>class_participation</th>\n",
       "      <th>study_group_participation</th>\n",
       "      <th>previous_grade</th>\n",
       "      <th>sleep_hours</th>\n",
       "      <th>age</th>\n",
       "      <th>final_grade</th>\n",
       "    </tr>\n",
       "  </thead>\n",
       "  <tbody>\n",
       "    <tr>\n",
       "      <th>count</th>\n",
       "      <td>1091.000000</td>\n",
       "      <td>1091.000000</td>\n",
       "      <td>1091.000000</td>\n",
       "      <td>1091.000000</td>\n",
       "      <td>1091.000000</td>\n",
       "      <td>1091.000000</td>\n",
       "      <td>1091.000000</td>\n",
       "      <td>1091.000000</td>\n",
       "      <td>1091.000000</td>\n",
       "      <td>1091.000000</td>\n",
       "    </tr>\n",
       "    <tr>\n",
       "      <th>mean</th>\n",
       "      <td>5.453603</td>\n",
       "      <td>80.158753</td>\n",
       "      <td>49.429281</td>\n",
       "      <td>49.686674</td>\n",
       "      <td>49.267590</td>\n",
       "      <td>0.492209</td>\n",
       "      <td>74.906417</td>\n",
       "      <td>7.085225</td>\n",
       "      <td>21.071494</td>\n",
       "      <td>38.133647</td>\n",
       "    </tr>\n",
       "    <tr>\n",
       "      <th>std</th>\n",
       "      <td>2.647806</td>\n",
       "      <td>11.568667</td>\n",
       "      <td>28.895947</td>\n",
       "      <td>28.638031</td>\n",
       "      <td>28.806085</td>\n",
       "      <td>0.500169</td>\n",
       "      <td>14.225590</td>\n",
       "      <td>1.739512</td>\n",
       "      <td>1.937658</td>\n",
       "      <td>10.069027</td>\n",
       "    </tr>\n",
       "    <tr>\n",
       "      <th>min</th>\n",
       "      <td>1.041688</td>\n",
       "      <td>60.128731</td>\n",
       "      <td>0.001163</td>\n",
       "      <td>0.003072</td>\n",
       "      <td>0.022704</td>\n",
       "      <td>0.000000</td>\n",
       "      <td>50.031376</td>\n",
       "      <td>4.010872</td>\n",
       "      <td>18.000000</td>\n",
       "      <td>9.138650</td>\n",
       "    </tr>\n",
       "    <tr>\n",
       "      <th>25%</th>\n",
       "      <td>3.136990</td>\n",
       "      <td>69.664929</td>\n",
       "      <td>25.815943</td>\n",
       "      <td>25.027403</td>\n",
       "      <td>24.492137</td>\n",
       "      <td>0.000000</td>\n",
       "      <td>63.176389</td>\n",
       "      <td>5.616982</td>\n",
       "      <td>19.000000</td>\n",
       "      <td>31.685611</td>\n",
       "    </tr>\n",
       "    <tr>\n",
       "      <th>50%</th>\n",
       "      <td>5.513647</td>\n",
       "      <td>80.627177</td>\n",
       "      <td>49.381404</td>\n",
       "      <td>50.027854</td>\n",
       "      <td>47.698339</td>\n",
       "      <td>0.000000</td>\n",
       "      <td>75.267683</td>\n",
       "      <td>7.162884</td>\n",
       "      <td>21.000000</td>\n",
       "      <td>37.942923</td>\n",
       "    </tr>\n",
       "    <tr>\n",
       "      <th>75%</th>\n",
       "      <td>7.756686</td>\n",
       "      <td>90.155171</td>\n",
       "      <td>73.825743</td>\n",
       "      <td>74.763109</td>\n",
       "      <td>74.212456</td>\n",
       "      <td>1.000000</td>\n",
       "      <td>86.690919</td>\n",
       "      <td>8.615867</td>\n",
       "      <td>23.000000</td>\n",
       "      <td>44.389183</td>\n",
       "    </tr>\n",
       "    <tr>\n",
       "      <th>max</th>\n",
       "      <td>9.997459</td>\n",
       "      <td>99.976549</td>\n",
       "      <td>99.782086</td>\n",
       "      <td>99.955770</td>\n",
       "      <td>99.879294</td>\n",
       "      <td>1.000000</td>\n",
       "      <td>99.992462</td>\n",
       "      <td>9.998448</td>\n",
       "      <td>24.000000</td>\n",
       "      <td>97.285506</td>\n",
       "    </tr>\n",
       "  </tbody>\n",
       "</table>\n",
       "</div>"
      ],
      "text/plain": [
       "       hours_studied  attendance_rate  homework_score   test_score  \\\n",
       "count    1091.000000      1091.000000     1091.000000  1091.000000   \n",
       "mean        5.453603        80.158753       49.429281    49.686674   \n",
       "std         2.647806        11.568667       28.895947    28.638031   \n",
       "min         1.041688        60.128731        0.001163     0.003072   \n",
       "25%         3.136990        69.664929       25.815943    25.027403   \n",
       "50%         5.513647        80.627177       49.381404    50.027854   \n",
       "75%         7.756686        90.155171       73.825743    74.763109   \n",
       "max         9.997459        99.976549       99.782086    99.955770   \n",
       "\n",
       "       class_participation  study_group_participation  previous_grade  \\\n",
       "count          1091.000000                1091.000000     1091.000000   \n",
       "mean             49.267590                   0.492209       74.906417   \n",
       "std              28.806085                   0.500169       14.225590   \n",
       "min               0.022704                   0.000000       50.031376   \n",
       "25%              24.492137                   0.000000       63.176389   \n",
       "50%              47.698339                   0.000000       75.267683   \n",
       "75%              74.212456                   1.000000       86.690919   \n",
       "max              99.879294                   1.000000       99.992462   \n",
       "\n",
       "       sleep_hours          age  final_grade  \n",
       "count  1091.000000  1091.000000  1091.000000  \n",
       "mean      7.085225    21.071494    38.133647  \n",
       "std       1.739512     1.937658    10.069027  \n",
       "min       4.010872    18.000000     9.138650  \n",
       "25%       5.616982    19.000000    31.685611  \n",
       "50%       7.162884    21.000000    37.942923  \n",
       "75%       8.615867    23.000000    44.389183  \n",
       "max       9.998448    24.000000    97.285506  "
      ]
     },
     "execution_count": 2,
     "metadata": {},
     "output_type": "execute_result"
    }
   ],
   "source": [
    "student_data.describe()"
   ]
  },
  {
   "cell_type": "code",
   "execution_count": 3,
   "metadata": {},
   "outputs": [
    {
     "name": "stdout",
     "output_type": "stream",
     "text": [
      "<class 'pandas.core.frame.DataFrame'>\n",
      "RangeIndex: 1091 entries, 0 to 1090\n",
      "Data columns (total 12 columns):\n",
      " #   Column                     Non-Null Count  Dtype  \n",
      "---  ------                     --------------  -----  \n",
      " 0   hours_studied              1091 non-null   float64\n",
      " 1   attendance_rate            1091 non-null   float64\n",
      " 2   homework_score             1091 non-null   float64\n",
      " 3   test_score                 1091 non-null   float64\n",
      " 4   class_participation        1091 non-null   float64\n",
      " 5   study_group_participation  1091 non-null   int64  \n",
      " 6   previous_grade             1091 non-null   float64\n",
      " 7   sleep_hours                1091 non-null   float64\n",
      " 8   age                        1091 non-null   int64  \n",
      " 9   gender                     1091 non-null   object \n",
      " 10  favorite_subject           1091 non-null   object \n",
      " 11  final_grade                1091 non-null   float64\n",
      "dtypes: float64(8), int64(2), object(2)\n",
      "memory usage: 102.4+ KB\n"
     ]
    }
   ],
   "source": [
    "student_data.info()"
   ]
  },
  {
   "cell_type": "markdown",
   "metadata": {},
   "source": [
    "Converting categorical data to non categorical data "
   ]
  },
  {
   "cell_type": "code",
   "execution_count": 61,
   "metadata": {},
   "outputs": [
    {
     "name": "stdout",
     "output_type": "stream",
     "text": [
      "['female' 'male']\n",
      "['History' 'Science' 'Math' 'Literature']\n"
     ]
    }
   ],
   "source": [
    "print(student_data[\"gender\"].unique())\n",
    "print(student_data[\"favorite_subject\"].unique())"
   ]
  },
  {
   "cell_type": "code",
   "execution_count": 62,
   "metadata": {},
   "outputs": [],
   "source": [
    "student_data[\"gender_encoded\"] = student_data[\"gender\"].map({\"male\": 1, \"female\":0})\n",
    "student_data = student_data.drop(columns=\"gender\")\n"
   ]
  },
  {
   "cell_type": "code",
   "execution_count": 6,
   "metadata": {},
   "outputs": [
    {
     "data": {
      "text/html": [
       "<div>\n",
       "<style scoped>\n",
       "    .dataframe tbody tr th:only-of-type {\n",
       "        vertical-align: middle;\n",
       "    }\n",
       "\n",
       "    .dataframe tbody tr th {\n",
       "        vertical-align: top;\n",
       "    }\n",
       "\n",
       "    .dataframe thead th {\n",
       "        text-align: right;\n",
       "    }\n",
       "</style>\n",
       "<table border=\"1\" class=\"dataframe\">\n",
       "  <thead>\n",
       "    <tr style=\"text-align: right;\">\n",
       "      <th></th>\n",
       "      <th>hours_studied</th>\n",
       "      <th>attendance_rate</th>\n",
       "      <th>homework_score</th>\n",
       "      <th>test_score</th>\n",
       "      <th>class_participation</th>\n",
       "      <th>study_group_participation</th>\n",
       "      <th>previous_grade</th>\n",
       "      <th>sleep_hours</th>\n",
       "      <th>age</th>\n",
       "      <th>favorite_subject</th>\n",
       "      <th>final_grade</th>\n",
       "      <th>gender_encoded</th>\n",
       "    </tr>\n",
       "  </thead>\n",
       "  <tbody>\n",
       "    <tr>\n",
       "      <th>0</th>\n",
       "      <td>4.370861</td>\n",
       "      <td>85.985866</td>\n",
       "      <td>3.318935</td>\n",
       "      <td>53.565660</td>\n",
       "      <td>22.677263</td>\n",
       "      <td>0</td>\n",
       "      <td>76.826280</td>\n",
       "      <td>8.536025</td>\n",
       "      <td>22</td>\n",
       "      <td>History</td>\n",
       "      <td>26.214684</td>\n",
       "      <td>0</td>\n",
       "    </tr>\n",
       "    <tr>\n",
       "      <th>1</th>\n",
       "      <td>9.556429</td>\n",
       "      <td>84.309472</td>\n",
       "      <td>30.394640</td>\n",
       "      <td>83.611770</td>\n",
       "      <td>66.652198</td>\n",
       "      <td>0</td>\n",
       "      <td>92.997036</td>\n",
       "      <td>6.713884</td>\n",
       "      <td>22</td>\n",
       "      <td>Science</td>\n",
       "      <td>44.589548</td>\n",
       "      <td>0</td>\n",
       "    </tr>\n",
       "    <tr>\n",
       "      <th>2</th>\n",
       "      <td>7.587945</td>\n",
       "      <td>80.507540</td>\n",
       "      <td>65.316279</td>\n",
       "      <td>82.138836</td>\n",
       "      <td>8.010573</td>\n",
       "      <td>0</td>\n",
       "      <td>60.651766</td>\n",
       "      <td>4.259022</td>\n",
       "      <td>19</td>\n",
       "      <td>Math</td>\n",
       "      <td>46.892416</td>\n",
       "      <td>0</td>\n",
       "    </tr>\n",
       "    <tr>\n",
       "      <th>3</th>\n",
       "      <td>6.387926</td>\n",
       "      <td>69.226792</td>\n",
       "      <td>93.830482</td>\n",
       "      <td>84.332617</td>\n",
       "      <td>44.183370</td>\n",
       "      <td>0</td>\n",
       "      <td>80.388922</td>\n",
       "      <td>5.857604</td>\n",
       "      <td>21</td>\n",
       "      <td>Science</td>\n",
       "      <td>57.301882</td>\n",
       "      <td>1</td>\n",
       "    </tr>\n",
       "    <tr>\n",
       "      <th>4</th>\n",
       "      <td>2.404168</td>\n",
       "      <td>67.061121</td>\n",
       "      <td>87.120448</td>\n",
       "      <td>48.509466</td>\n",
       "      <td>16.336676</td>\n",
       "      <td>1</td>\n",
       "      <td>54.189549</td>\n",
       "      <td>5.920661</td>\n",
       "      <td>18</td>\n",
       "      <td>Literature</td>\n",
       "      <td>37.824042</td>\n",
       "      <td>1</td>\n",
       "    </tr>\n",
       "  </tbody>\n",
       "</table>\n",
       "</div>"
      ],
      "text/plain": [
       "   hours_studied  attendance_rate  homework_score  test_score  \\\n",
       "0       4.370861        85.985866        3.318935   53.565660   \n",
       "1       9.556429        84.309472       30.394640   83.611770   \n",
       "2       7.587945        80.507540       65.316279   82.138836   \n",
       "3       6.387926        69.226792       93.830482   84.332617   \n",
       "4       2.404168        67.061121       87.120448   48.509466   \n",
       "\n",
       "   class_participation  study_group_participation  previous_grade  \\\n",
       "0            22.677263                          0       76.826280   \n",
       "1            66.652198                          0       92.997036   \n",
       "2             8.010573                          0       60.651766   \n",
       "3            44.183370                          0       80.388922   \n",
       "4            16.336676                          1       54.189549   \n",
       "\n",
       "   sleep_hours  age favorite_subject  final_grade  gender_encoded  \n",
       "0     8.536025   22          History    26.214684               0  \n",
       "1     6.713884   22          Science    44.589548               0  \n",
       "2     4.259022   19             Math    46.892416               0  \n",
       "3     5.857604   21          Science    57.301882               1  \n",
       "4     5.920661   18       Literature    37.824042               1  "
      ]
     },
     "execution_count": 6,
     "metadata": {},
     "output_type": "execute_result"
    }
   ],
   "source": [
    "student_data.head()"
   ]
  },
  {
   "cell_type": "code",
   "execution_count": 63,
   "metadata": {},
   "outputs": [
    {
     "data": {
      "text/html": [
       "<div>\n",
       "<style scoped>\n",
       "    .dataframe tbody tr th:only-of-type {\n",
       "        vertical-align: middle;\n",
       "    }\n",
       "\n",
       "    .dataframe tbody tr th {\n",
       "        vertical-align: top;\n",
       "    }\n",
       "\n",
       "    .dataframe thead th {\n",
       "        text-align: right;\n",
       "    }\n",
       "</style>\n",
       "<table border=\"1\" class=\"dataframe\">\n",
       "  <thead>\n",
       "    <tr style=\"text-align: right;\">\n",
       "      <th></th>\n",
       "      <th>hours_studied</th>\n",
       "      <th>attendance_rate</th>\n",
       "      <th>homework_score</th>\n",
       "      <th>test_score</th>\n",
       "      <th>class_participation</th>\n",
       "      <th>study_group_participation</th>\n",
       "      <th>previous_grade</th>\n",
       "      <th>sleep_hours</th>\n",
       "      <th>age</th>\n",
       "      <th>final_grade</th>\n",
       "      <th>gender_encoded</th>\n",
       "      <th>favorite_subject_History</th>\n",
       "      <th>favorite_subject_Literature</th>\n",
       "      <th>favorite_subject_Math</th>\n",
       "      <th>favorite_subject_Science</th>\n",
       "    </tr>\n",
       "  </thead>\n",
       "  <tbody>\n",
       "    <tr>\n",
       "      <th>0</th>\n",
       "      <td>4</td>\n",
       "      <td>85</td>\n",
       "      <td>3</td>\n",
       "      <td>53</td>\n",
       "      <td>22</td>\n",
       "      <td>0</td>\n",
       "      <td>76</td>\n",
       "      <td>8</td>\n",
       "      <td>22</td>\n",
       "      <td>26</td>\n",
       "      <td>0</td>\n",
       "      <td>1</td>\n",
       "      <td>0</td>\n",
       "      <td>0</td>\n",
       "      <td>0</td>\n",
       "    </tr>\n",
       "    <tr>\n",
       "      <th>1</th>\n",
       "      <td>9</td>\n",
       "      <td>84</td>\n",
       "      <td>30</td>\n",
       "      <td>83</td>\n",
       "      <td>66</td>\n",
       "      <td>0</td>\n",
       "      <td>92</td>\n",
       "      <td>6</td>\n",
       "      <td>22</td>\n",
       "      <td>44</td>\n",
       "      <td>0</td>\n",
       "      <td>0</td>\n",
       "      <td>0</td>\n",
       "      <td>0</td>\n",
       "      <td>1</td>\n",
       "    </tr>\n",
       "    <tr>\n",
       "      <th>2</th>\n",
       "      <td>7</td>\n",
       "      <td>80</td>\n",
       "      <td>65</td>\n",
       "      <td>82</td>\n",
       "      <td>8</td>\n",
       "      <td>0</td>\n",
       "      <td>60</td>\n",
       "      <td>4</td>\n",
       "      <td>19</td>\n",
       "      <td>46</td>\n",
       "      <td>0</td>\n",
       "      <td>0</td>\n",
       "      <td>0</td>\n",
       "      <td>1</td>\n",
       "      <td>0</td>\n",
       "    </tr>\n",
       "    <tr>\n",
       "      <th>3</th>\n",
       "      <td>6</td>\n",
       "      <td>69</td>\n",
       "      <td>93</td>\n",
       "      <td>84</td>\n",
       "      <td>44</td>\n",
       "      <td>0</td>\n",
       "      <td>80</td>\n",
       "      <td>5</td>\n",
       "      <td>21</td>\n",
       "      <td>57</td>\n",
       "      <td>1</td>\n",
       "      <td>0</td>\n",
       "      <td>0</td>\n",
       "      <td>0</td>\n",
       "      <td>1</td>\n",
       "    </tr>\n",
       "    <tr>\n",
       "      <th>4</th>\n",
       "      <td>2</td>\n",
       "      <td>67</td>\n",
       "      <td>87</td>\n",
       "      <td>48</td>\n",
       "      <td>16</td>\n",
       "      <td>1</td>\n",
       "      <td>54</td>\n",
       "      <td>5</td>\n",
       "      <td>18</td>\n",
       "      <td>37</td>\n",
       "      <td>1</td>\n",
       "      <td>0</td>\n",
       "      <td>1</td>\n",
       "      <td>0</td>\n",
       "      <td>0</td>\n",
       "    </tr>\n",
       "  </tbody>\n",
       "</table>\n",
       "</div>"
      ],
      "text/plain": [
       "   hours_studied  attendance_rate  homework_score  test_score  \\\n",
       "0              4               85               3          53   \n",
       "1              9               84              30          83   \n",
       "2              7               80              65          82   \n",
       "3              6               69              93          84   \n",
       "4              2               67              87          48   \n",
       "\n",
       "   class_participation  study_group_participation  previous_grade  \\\n",
       "0                   22                          0              76   \n",
       "1                   66                          0              92   \n",
       "2                    8                          0              60   \n",
       "3                   44                          0              80   \n",
       "4                   16                          1              54   \n",
       "\n",
       "   sleep_hours  age  final_grade  gender_encoded  favorite_subject_History  \\\n",
       "0            8   22           26               0                         1   \n",
       "1            6   22           44               0                         0   \n",
       "2            4   19           46               0                         0   \n",
       "3            5   21           57               1                         0   \n",
       "4            5   18           37               1                         0   \n",
       "\n",
       "   favorite_subject_Literature  favorite_subject_Math  \\\n",
       "0                            0                      0   \n",
       "1                            0                      0   \n",
       "2                            0                      1   \n",
       "3                            0                      0   \n",
       "4                            1                      0   \n",
       "\n",
       "   favorite_subject_Science  \n",
       "0                         0  \n",
       "1                         1  \n",
       "2                         0  \n",
       "3                         1  \n",
       "4                         0  "
      ]
     },
     "execution_count": 63,
     "metadata": {},
     "output_type": "execute_result"
    }
   ],
   "source": [
    "#encoding the student favorite subjects here. using one-hot encoding because not too many subjects available\n",
    "student_data = pd.get_dummies(student_data, columns=[\"favorite_subject\"]).astype(int)\n",
    "student_data.head()"
   ]
  },
  {
   "cell_type": "code",
   "execution_count": 8,
   "metadata": {},
   "outputs": [
    {
     "data": {
      "text/html": [
       "<div>\n",
       "<style scoped>\n",
       "    .dataframe tbody tr th:only-of-type {\n",
       "        vertical-align: middle;\n",
       "    }\n",
       "\n",
       "    .dataframe tbody tr th {\n",
       "        vertical-align: top;\n",
       "    }\n",
       "\n",
       "    .dataframe thead th {\n",
       "        text-align: right;\n",
       "    }\n",
       "</style>\n",
       "<table border=\"1\" class=\"dataframe\">\n",
       "  <thead>\n",
       "    <tr style=\"text-align: right;\">\n",
       "      <th></th>\n",
       "      <th>hours_studied</th>\n",
       "      <th>attendance_rate</th>\n",
       "      <th>homework_score</th>\n",
       "      <th>test_score</th>\n",
       "      <th>class_participation</th>\n",
       "      <th>study_group_participation</th>\n",
       "      <th>previous_grade</th>\n",
       "      <th>sleep_hours</th>\n",
       "      <th>age</th>\n",
       "      <th>final_grade</th>\n",
       "      <th>gender_encoded</th>\n",
       "      <th>favorite_subject_History</th>\n",
       "      <th>favorite_subject_Literature</th>\n",
       "      <th>favorite_subject_Math</th>\n",
       "      <th>favorite_subject_Science</th>\n",
       "    </tr>\n",
       "  </thead>\n",
       "  <tbody>\n",
       "    <tr>\n",
       "      <th>0</th>\n",
       "      <td>4</td>\n",
       "      <td>85</td>\n",
       "      <td>3</td>\n",
       "      <td>53</td>\n",
       "      <td>22</td>\n",
       "      <td>0</td>\n",
       "      <td>76</td>\n",
       "      <td>8</td>\n",
       "      <td>22</td>\n",
       "      <td>26</td>\n",
       "      <td>0</td>\n",
       "      <td>1</td>\n",
       "      <td>0</td>\n",
       "      <td>0</td>\n",
       "      <td>0</td>\n",
       "    </tr>\n",
       "    <tr>\n",
       "      <th>1</th>\n",
       "      <td>9</td>\n",
       "      <td>84</td>\n",
       "      <td>30</td>\n",
       "      <td>83</td>\n",
       "      <td>66</td>\n",
       "      <td>0</td>\n",
       "      <td>92</td>\n",
       "      <td>6</td>\n",
       "      <td>22</td>\n",
       "      <td>44</td>\n",
       "      <td>0</td>\n",
       "      <td>0</td>\n",
       "      <td>0</td>\n",
       "      <td>0</td>\n",
       "      <td>1</td>\n",
       "    </tr>\n",
       "    <tr>\n",
       "      <th>2</th>\n",
       "      <td>7</td>\n",
       "      <td>80</td>\n",
       "      <td>65</td>\n",
       "      <td>82</td>\n",
       "      <td>8</td>\n",
       "      <td>0</td>\n",
       "      <td>60</td>\n",
       "      <td>4</td>\n",
       "      <td>19</td>\n",
       "      <td>46</td>\n",
       "      <td>0</td>\n",
       "      <td>0</td>\n",
       "      <td>0</td>\n",
       "      <td>1</td>\n",
       "      <td>0</td>\n",
       "    </tr>\n",
       "    <tr>\n",
       "      <th>3</th>\n",
       "      <td>6</td>\n",
       "      <td>69</td>\n",
       "      <td>93</td>\n",
       "      <td>84</td>\n",
       "      <td>44</td>\n",
       "      <td>0</td>\n",
       "      <td>80</td>\n",
       "      <td>5</td>\n",
       "      <td>21</td>\n",
       "      <td>57</td>\n",
       "      <td>1</td>\n",
       "      <td>0</td>\n",
       "      <td>0</td>\n",
       "      <td>0</td>\n",
       "      <td>1</td>\n",
       "    </tr>\n",
       "    <tr>\n",
       "      <th>4</th>\n",
       "      <td>2</td>\n",
       "      <td>67</td>\n",
       "      <td>87</td>\n",
       "      <td>48</td>\n",
       "      <td>16</td>\n",
       "      <td>1</td>\n",
       "      <td>54</td>\n",
       "      <td>5</td>\n",
       "      <td>18</td>\n",
       "      <td>37</td>\n",
       "      <td>1</td>\n",
       "      <td>0</td>\n",
       "      <td>1</td>\n",
       "      <td>0</td>\n",
       "      <td>0</td>\n",
       "    </tr>\n",
       "  </tbody>\n",
       "</table>\n",
       "</div>"
      ],
      "text/plain": [
       "   hours_studied  attendance_rate  homework_score  test_score  \\\n",
       "0              4               85               3          53   \n",
       "1              9               84              30          83   \n",
       "2              7               80              65          82   \n",
       "3              6               69              93          84   \n",
       "4              2               67              87          48   \n",
       "\n",
       "   class_participation  study_group_participation  previous_grade  \\\n",
       "0                   22                          0              76   \n",
       "1                   66                          0              92   \n",
       "2                    8                          0              60   \n",
       "3                   44                          0              80   \n",
       "4                   16                          1              54   \n",
       "\n",
       "   sleep_hours  age  final_grade  gender_encoded  favorite_subject_History  \\\n",
       "0            8   22           26               0                         1   \n",
       "1            6   22           44               0                         0   \n",
       "2            4   19           46               0                         0   \n",
       "3            5   21           57               1                         0   \n",
       "4            5   18           37               1                         0   \n",
       "\n",
       "   favorite_subject_Literature  favorite_subject_Math  \\\n",
       "0                            0                      0   \n",
       "1                            0                      0   \n",
       "2                            0                      1   \n",
       "3                            0                      0   \n",
       "4                            1                      0   \n",
       "\n",
       "   favorite_subject_Science  \n",
       "0                         0  \n",
       "1                         1  \n",
       "2                         0  \n",
       "3                         1  \n",
       "4                         0  "
      ]
     },
     "execution_count": 8,
     "metadata": {},
     "output_type": "execute_result"
    }
   ],
   "source": [
    "student_data.head()"
   ]
  },
  {
   "cell_type": "markdown",
   "metadata": {},
   "source": [
    "Handling Null Values in Dataset "
   ]
  },
  {
   "cell_type": "code",
   "execution_count": 55,
   "metadata": {},
   "outputs": [
    {
     "name": "stdout",
     "output_type": "stream",
     "text": [
      "hours_studied                  0\n",
      "attendance_rate                0\n",
      "homework_score                 0\n",
      "test_score                     0\n",
      "class_participation            0\n",
      "study_group_participation      0\n",
      "previous_grade                 0\n",
      "sleep_hours                    0\n",
      "age                            0\n",
      "final_grade                    0\n",
      "gender_encoded                 0\n",
      "favorite_subject_History       0\n",
      "favorite_subject_Literature    0\n",
      "favorite_subject_Math          0\n",
      "favorite_subject_Science       0\n",
      "dtype: int64\n"
     ]
    }
   ],
   "source": [
    "print(student_data.isnull().sum())"
   ]
  },
  {
   "cell_type": "code",
   "execution_count": 56,
   "metadata": {},
   "outputs": [
    {
     "name": "stdout",
     "output_type": "stream",
     "text": [
      "                        Feature  Coefficient\n",
      "0                     Intercept   -33.707031\n",
      "1                 hours_studied     0.110979\n",
      "2               attendance_rate     0.400838\n",
      "3                homework_score     0.190981\n",
      "4                    test_score     0.056550\n",
      "5           class_participation     0.064276\n",
      "6     study_group_participation    -0.828970\n",
      "7                previous_grade     0.016874\n",
      "8                   sleep_hours    -0.493941\n",
      "9                           age     0.157574\n",
      "10               gender_encoded     0.101153\n",
      "11     favorite_subject_History    28.065488\n",
      "12  favorite_subject_Literature    58.963153\n",
      "13        favorite_subject_Math   110.679069\n",
      "14     favorite_subject_Science    46.011314\n"
     ]
    }
   ],
   "source": [
    "import numpy as np\n",
    "\n",
    "# Separating predictors (X) and target (y)\n",
    "X = student_data.drop(columns=[\"final_grade\"])\n",
    "y = student_data[\"final_grade\"]\n",
    "\n",
    "#adding an intercept here\n",
    "X = np.c_[np.ones(X.shape[0]), X]\n",
    "\n",
    "#implemeting Closed-form solution for linear regression\n",
    "w = np.linalg.inv(X.T @ X) @ X.T @ y\n",
    "\n",
    "# Display coefficients\n",
    "coef_df = pd.DataFrame({\n",
    "    'Feature': ['Intercept'] + list(student_data.drop(columns=[\"final_grade\"]).columns),\n",
    "    'Coefficient': w\n",
    "})\n",
    "print(coef_df)\n"
   ]
  },
  {
   "cell_type": "markdown",
   "metadata": {},
   "source": [
    "for the closed loop system, the coefficents with the largest absolute value contributes the mosts. Hence, with this methode, the feature the most important feature is whether or not their favorite subject is Math"
   ]
  },
  {
   "cell_type": "code",
   "execution_count": 11,
   "metadata": {},
   "outputs": [
    {
     "data": {
      "image/png": "[encoded data removed]",
      "text/plain": [
       "<Figure size 432x288 with 1 Axes>"
      ]
     },
     "metadata": {
      "needs_background": "light"
     },
     "output_type": "display_data"
    }
   ],
   "source": [
    "import statsmodels.api as sm\n",
    "import matplotlib.pyplot as plt\n",
    "\n",
    "# Fit a linear regression model\n",
    "model = sm.OLS(y, X).fit()\n",
    "predictions = model.predict(X)\n",
    "residuals = y - predictions\n",
    "\n",
    "# Plot residuals vs. predicted values\n",
    "plt.scatter(predictions, residuals)\n",
    "plt.axhline(0, color='red', linestyle='--')\n",
    "plt.xlabel(\"Predicted Values\")\n",
    "plt.ylabel(\"Residuals\")\n",
    "plt.title(\"Residuals vs. Predicted Values\")\n",
    "plt.show()\n"
   ]
  },
  {
   "cell_type": "markdown",
   "metadata": {},
   "source": [
    "The goal variable and predictors have to have a linear relationship. I Plotted the residuals (errors) against the expected values to verify. The linearity condition is probably satisfied, if the residuals create a random distribution about zero. A nonlinear relationship is suggested by curved patterns. From the results, there is a linear relationship between the variables and the target"
   ]
  },
  {
   "cell_type": "markdown",
   "metadata": {},
   "source": [
    "test for indepence of errors\n",
    "Errors should be independent of each other, which means no autocorrelation.\n",
    "Check: I will Use the Durbin-Watson test. A test statistic close to 2 suggests errors are uncorrelated; values approaching 0 or 4 indicate positive or negative correlation, respectively."
   ]
  },
  {
   "cell_type": "code",
   "execution_count": 12,
   "metadata": {},
   "outputs": [
    {
     "name": "stdout",
     "output_type": "stream",
     "text": [
      "Durbin-Watson Statistic: 2.041551534432178\n"
     ]
    }
   ],
   "source": [
    "from statsmodels.stats.stattools import durbin_watson\n",
    "\n",
    "# Durbin-Watson test\n",
    "dw_statistic = durbin_watson(residuals)\n",
    "print(\"Durbin-Watson Statistic:\", dw_statistic)\n"
   ]
  },
  {
   "cell_type": "markdown",
   "metadata": {},
   "source": [
    "I can confidently conclude that the errors from the prediction are unrelated "
   ]
  },
  {
   "cell_type": "markdown",
   "metadata": {},
   "source": [
    "TEST FOR Normality of Residuals"
   ]
  },
  {
   "cell_type": "code",
   "execution_count": 13,
   "metadata": {},
   "outputs": [
    {
     "data": {
      "image/png": "[encoded data removed]",
      "text/plain": [
       "<Figure size 432x288 with 1 Axes>"
      ]
     },
     "metadata": {
      "needs_background": "light"
     },
     "output_type": "display_data"
    },
    {
     "name": "stdout",
     "output_type": "stream",
     "text": [
      "Shapiro-Wilk Test p-value: 1.0128925995159803e-29\n"
     ]
    }
   ],
   "source": [
    "import scipy.stats as stats\n",
    "\n",
    "# Q-Q plot\n",
    "sm.qqplot(residuals, line='45')\n",
    "plt.title(\"Q-Q Plot of Residuals\")\n",
    "plt.show()\n",
    "\n",
    "# Shapiro-Wilk test\n",
    "shapiro_stat, shapiro_p = stats.shapiro(residuals)\n",
    "print(\"Shapiro-Wilk Test p-value:\", shapiro_p)\n"
   ]
  },
  {
   "cell_type": "markdown",
   "metadata": {},
   "source": [
    "If the residuals deviate significantly from the line in the Q-Q plot or the Shapiro-Wilk test p-value is below 0.05, normality is violated. Hence, in our graph, since the value deviate and the p-value is way off. we would have to apply transformations to the target variable or use robust regression techniques to handle non-normality"
   ]
  },
  {
   "cell_type": "markdown",
   "metadata": {},
   "source": [
    "GRADIENT DECENT \n",
    "To implement gradient descent from scratch for linear regression, i’ll iteratively adjust the parameters to minimize the Mean Squared Error (MSE) between predictions and actual values. The goal is to find parameter values that make the gradient of the cost function as close to zero as possible."
   ]
  },
  {
   "cell_type": "code",
   "execution_count": 46,
   "metadata": {},
   "outputs": [],
   "source": [
    "from sklearn.preprocessing import StandardScaler\n",
    "\n",
    "# Standardize features\n",
    "scaler = StandardScaler()\n",
    "X = scaler.fit_transform(student_data.drop(columns='final_grade'))\n",
    "y = student_data['final_grade'].values\n",
    "\n",
    "# Add intercept after scaling (for gradient descent to work)\n",
    "X = np.c_[np.ones(X.shape[0]), X]\n"
   ]
  },
  {
   "cell_type": "code",
   "execution_count": 47,
   "metadata": {},
   "outputs": [],
   "source": [
    "import numpy as np\n",
    "\n",
    "# Gradient descent implementation\n",
    "def gradient_descent(X, y, learning_rate=0.001, epochs=1000):\n",
    "    m, n = X.shape\n",
    "    weights = np.zeros(n)  # Initialize weights to zero\n",
    "    cost_history = []  # Track the cost at each step\n",
    "\n",
    "    for _ in range(epochs):\n",
    "        predictions = X @ weights  # Compute predictions\n",
    "        error = predictions - y  # Compute error\n",
    "        cost = (1 / (2 * m)) * np.sum(error ** 2)  # Mean Squared Error\n",
    "        cost_history.append(cost)\n",
    "\n",
    "        # Gradient of the cost function\n",
    "        gradients = (1 / m) * (X.T @ error)\n",
    "        \n",
    "        # Update weights\n",
    "        weights -= learning_rate * gradients\n",
    "\n",
    "    return weights, cost_history\n"
   ]
  },
  {
   "cell_type": "code",
   "execution_count": 48,
   "metadata": {},
   "outputs": [
    {
     "name": "stderr",
     "output_type": "stream",
     "text": [
      "/Users/agnesslungu/opt/anaconda3/lib/python3.8/site-packages/numpy/core/fromnumeric.py:86: RuntimeWarning: overflow encountered in reduce\n",
      "  return ufunc.reduce(obj, axis, dtype, out, **passkwargs)\n",
      "<ipython-input-47-669bd27a289b>:12: RuntimeWarning: overflow encountered in square\n",
      "  cost = (1 / (2 * m)) * np.sum(error ** 2)  # Mean Squared Error\n",
      "<ipython-input-47-669bd27a289b>:16: RuntimeWarning: overflow encountered in matmul\n",
      "  gradients = (1 / m) * (X.T @ error)\n",
      "<ipython-input-47-669bd27a289b>:10: RuntimeWarning: invalid value encountered in matmul\n",
      "  predictions = X @ weights  # Compute predictions\n"
     ]
    }
   ],
   "source": [
    "# Check data for issues\n",
    "X = np.c_[np.ones(X.shape[0]), student_data.drop(columns='final_grade').values]\n",
    "y = student_data['final_grade'].values\n",
    "\n",
    "# Initialize weights correctly\n",
    "weights = np.zeros(X.shape[1])\n",
    "\n",
    "# Run gradient descent\n",
    "weights_gd, cost_history = gradient_descent(X, y, learning_rate=0.01, epochs=1000)\n"
   ]
  },
  {
   "cell_type": "code",
   "execution_count": 49,
   "metadata": {},
   "outputs": [
    {
     "name": "stderr",
     "output_type": "stream",
     "text": [
      "<ipython-input-47-669bd27a289b>:12: RuntimeWarning: overflow encountered in square\n",
      "  cost = (1 / (2 * m)) * np.sum(error ** 2)  # Mean Squared Error\n",
      "<ipython-input-47-669bd27a289b>:16: RuntimeWarning: overflow encountered in matmul\n",
      "  gradients = (1 / m) * (X.T @ error)\n",
      "<ipython-input-47-669bd27a289b>:10: RuntimeWarning: invalid value encountered in matmul\n",
      "  predictions = X @ weights  # Compute predictions\n"
     ]
    }
   ],
   "source": [
    "\n",
    "weights_gd, cost_history = gradient_descent(X, y, learning_rate=0.01, epochs=1000)\n"
   ]
  },
  {
   "cell_type": "markdown",
   "metadata": {},
   "source": [
    "TRAINING FINAL MODEL"
   ]
  },
  {
   "cell_type": "code",
   "execution_count": 64,
   "metadata": {},
   "outputs": [],
   "source": [
    "# Separating predictors (X) and target (y)\n",
    "X = student_data.drop(columns=[\"final_grade\"])\n",
    "y = student_data[\"final_grade\"]"
   ]
  },
  {
   "cell_type": "code",
   "execution_count": 65,
   "metadata": {},
   "outputs": [],
   "source": [
    "from sklearn.model_selection import train_test_split\n",
    "\n",
    "X_train, X_test, y_train, y_test = train_test_split(X, y, test_size=0.2, random_state=42)\n",
    "\n",
    "#standardizing data \n",
    "from sklearn.preprocessing import StandardScaler\n",
    "\n",
    "scaler = StandardScaler()\n",
    "X_scaled = scaler.fit_transform(X)\n",
    "\n",
    "\n"
   ]
  },
  {
   "cell_type": "markdown",
   "metadata": {},
   "source": [
    "PCA to get only the features that contribute to more than 95% of the variancee. Hopefully this helps optimize my algorithm"
   ]
  },
  {
   "cell_type": "code",
   "execution_count": 68,
   "metadata": {},
   "outputs": [],
   "source": [
    "from sklearn.decomposition import PCA\n",
    "\n",
    "pca = PCA(n_components=0.95)\n",
    "X_pca = pca.fit_transform(X_scaled)\n"
   ]
  },
  {
   "cell_type": "code",
   "execution_count": 69,
   "metadata": {},
   "outputs": [
    {
     "data": {
      "text/html": [
       "<style>#sk-container-id-1 {color: black;}#sk-container-id-1 pre{padding: 0;}#sk-container-id-1 div.sk-toggleable {background-color: white;}#sk-container-id-1 label.sk-toggleable__label {cursor: pointer;display: block;width: 100%;margin-bottom: 0;padding: 0.3em;box-sizing: border-box;text-align: center;}#sk-container-id-1 label.sk-toggleable__label-arrow:before {content: \"▸\";float: left;margin-right: 0.25em;color: #696969;}#sk-container-id-1 label.sk-toggleable__label-arrow:hover:before {color: black;}#sk-container-id-1 div.sk-estimator:hover label.sk-toggleable__label-arrow:before {color: black;}#sk-container-id-1 div.sk-toggleable__content {max-height: 0;max-width: 0;overflow: hidden;text-align: left;background-color: #f0f8ff;}#sk-container-id-1 div.sk-toggleable__content pre {margin: 0.2em;color: black;border-radius: 0.25em;background-color: #f0f8ff;}#sk-container-id-1 input.sk-toggleable__control:checked~div.sk-toggleable__content {max-height: 200px;max-width: 100%;overflow: auto;}#sk-container-id-1 input.sk-toggleable__control:checked~label.sk-toggleable__label-arrow:before {content: \"▾\";}#sk-container-id-1 div.sk-estimator input.sk-toggleable__control:checked~label.sk-toggleable__label {background-color: #d4ebff;}#sk-container-id-1 div.sk-label input.sk-toggleable__control:checked~label.sk-toggleable__label {background-color: #d4ebff;}#sk-container-id-1 input.sk-hidden--visually {border: 0;clip: rect(1px 1px 1px 1px);clip: rect(1px, 1px, 1px, 1px);height: 1px;margin: -1px;overflow: hidden;padding: 0;position: absolute;width: 1px;}#sk-container-id-1 div.sk-estimator {font-family: monospace;background-color: #f0f8ff;border: 1px dotted black;border-radius: 0.25em;box-sizing: border-box;margin-bottom: 0.5em;}#sk-container-id-1 div.sk-estimator:hover {background-color: #d4ebff;}#sk-container-id-1 div.sk-parallel-item::after {content: \"\";width: 100%;border-bottom: 1px solid gray;flex-grow: 1;}#sk-container-id-1 div.sk-label:hover label.sk-toggleable__label {background-color: #d4ebff;}#sk-container-id-1 div.sk-serial::before {content: \"\";position: absolute;border-left: 1px solid gray;box-sizing: border-box;top: 0;bottom: 0;left: 50%;z-index: 0;}#sk-container-id-1 div.sk-serial {display: flex;flex-direction: column;align-items: center;background-color: white;padding-right: 0.2em;padding-left: 0.2em;position: relative;}#sk-container-id-1 div.sk-item {position: relative;z-index: 1;}#sk-container-id-1 div.sk-parallel {display: flex;align-items: stretch;justify-content: center;background-color: white;position: relative;}#sk-container-id-1 div.sk-item::before, #sk-container-id-1 div.sk-parallel-item::before {content: \"\";position: absolute;border-left: 1px solid gray;box-sizing: border-box;top: 0;bottom: 0;left: 50%;z-index: -1;}#sk-container-id-1 div.sk-parallel-item {display: flex;flex-direction: column;z-index: 1;position: relative;background-color: white;}#sk-container-id-1 div.sk-parallel-item:first-child::after {align-self: flex-end;width: 50%;}#sk-container-id-1 div.sk-parallel-item:last-child::after {align-self: flex-start;width: 50%;}#sk-container-id-1 div.sk-parallel-item:only-child::after {width: 0;}#sk-container-id-1 div.sk-dashed-wrapped {border: 1px dashed gray;margin: 0 0.4em 0.5em 0.4em;box-sizing: border-box;padding-bottom: 0.4em;background-color: white;}#sk-container-id-1 div.sk-label label {font-family: monospace;font-weight: bold;display: inline-block;line-height: 1.2em;}#sk-container-id-1 div.sk-label-container {text-align: center;}#sk-container-id-1 div.sk-container {/* jupyter's `normalize.less` sets `[hidden] { display: none; }` but bootstrap.min.css set `[hidden] { display: none !important; }` so we also need the `!important` here to be able to override the default hidden behavior on the sphinx rendered scikit-learn.org. See: https://github.com/scikit-learn/scikit-learn/issues/21755 */display: inline-block !important;position: relative;}#sk-container-id-1 div.sk-text-repr-fallback {display: none;}</style><div id=\"sk-container-id-1\" class=\"sk-top-container\"><div class=\"sk-text-repr-fallback\"><pre>LinearRegression()</pre><b>In a Jupyter environment, please rerun this cell to show the HTML representation or trust the notebook. <br />On GitHub, the HTML representation is unable to render, please try loading this page with nbviewer.org.</b></div><div class=\"sk-container\" hidden><div class=\"sk-item\"><div class=\"sk-estimator sk-toggleable\"><input class=\"sk-toggleable__control sk-hidden--visually\" id=\"sk-estimator-id-1\" type=\"checkbox\" checked><label for=\"sk-estimator-id-1\" class=\"sk-toggleable__label sk-toggleable__label-arrow\">LinearRegression</label><div class=\"sk-toggleable__content\"><pre>LinearRegression()</pre></div></div></div></div></div>"
      ],
      "text/plain": [
       "LinearRegression()"
      ]
     },
     "execution_count": 69,
     "metadata": {},
     "output_type": "execute_result"
    }
   ],
   "source": [
    "from sklearn.linear_model import LinearRegression\n",
    "\n",
    "X_train, X_test, y_train, y_test = train_test_split(X_pca, y, test_size=0.2, random_state=42)\n",
    "\n",
    "\n",
    "model = LinearRegression()\n",
    "model.fit(X_train, y_train)\n",
    "\n"
   ]
  },
  {
   "cell_type": "code",
   "execution_count": 70,
   "metadata": {},
   "outputs": [
    {
     "name": "stdout",
     "output_type": "stream",
     "text": [
      "R-squared: 0.6883999056687012\n",
      "MAE: 4.140601379124723\n",
      "MSE: 26.715057898806126\n"
     ]
    }
   ],
   "source": [
    "from sklearn.metrics import r2_score, mean_absolute_error, mean_squared_error\n",
    "\n",
    "y_pred = model.predict(X_test)\n",
    "r2 = r2_score(y_test, y_pred)\n",
    "mae = mean_absolute_error(y_test, y_pred)\n",
    "mse = mean_squared_error(y_test, y_pred)\n",
    "\n",
    "print(\"R-squared:\", r2)\n",
    "print(\"MAE:\", mae)\n",
    "print(\"MSE:\", mse)\n"
   ]
  },
  {
   "cell_type": "code",
   "execution_count": 71,
   "metadata": {},
   "outputs": [
    {
     "data": {
      "image/png": "[encoded data removed]",
      "text/plain": [
       "<Figure size 432x288 with 1 Axes>"
      ]
     },
     "metadata": {
      "needs_background": "light"
     },
     "output_type": "display_data"
    }
   ],
   "source": [
    "import matplotlib.pyplot as plt\n",
    "\n",
    "residuals = y_test - y_pred\n",
    "plt.scatter(y_pred, residuals)\n",
    "plt.axhline(y=0, color='r', linestyle='--')\n",
    "plt.xlabel(\"Predicted Values\")\n",
    "plt.ylabel(\"Residuals\")\n",
    "plt.title(\"Residual Plot\")\n",
    "plt.show()\n"
   ]
  },
  {
   "cell_type": "markdown",
   "metadata": {},
   "source": [
    "the residual plot shows the values scattered around the 0 suggesting that our model is not systematically biased and our errors are random. My suggestions for improvement would be to use a more powerful model like trees or logistic regression"
   ]
  },
  {
   "cell_type": "markdown",
   "metadata": {},
   "source": [
    "Question 2: Logistic Regression (40 points)\n",
    "You are working with a dataset that contains information about patients, including their age, gender,\n",
    "cholesterol levels, blood pressure, etc. and whether or not they have a heart disease diagnosis (1 for yes, 0\n",
    "for no). Your task is to:\n",
    "• Load the dataset. Perform necessary data preprocessing steps (think about handling missing values,\n",
    "normalizing continuous features, encoding categorical features, etc). Implement logistic regression\n",
    "from scratch to predict the probability of heart disease. Discuss the convergence criteria used in the\n",
    "optimization process.\n",
    "page 1 of 2\n",
    "P556 Homework 1 October 15, 2024\n",
    "• Evaluate the model using metrics such as accuracy, precision, recall, and ROC-AUC.\n",
    "• Interpret the coefficients of the logistic regression model to explain the influence of each feature on the\n",
    "likelihood of heart disease?\n",
    "• Discuss any assumptions made during the logistic regression process, if you notice and how you vali-\n",
    "dated them.\n",
    "Hint: You can use MLE for logistic regression parameter estimation to implement the model. Use\n",
    "scipy.optimize or another optimization library to maximize the likelihood function and obtain the parame-\n",
    "ter estimates."
   ]
  },
  {
   "cell_type": "code",
   "execution_count": 72,
   "metadata": {},
   "outputs": [
    {
     "data": {
      "text/html": [
       "<div>\n",
       "<style scoped>\n",
       "    .dataframe tbody tr th:only-of-type {\n",
       "        vertical-align: middle;\n",
       "    }\n",
       "\n",
       "    .dataframe tbody tr th {\n",
       "        vertical-align: top;\n",
       "    }\n",
       "\n",
       "    .dataframe thead th {\n",
       "        text-align: right;\n",
       "    }\n",
       "</style>\n",
       "<table border=\"1\" class=\"dataframe\">\n",
       "  <thead>\n",
       "    <tr style=\"text-align: right;\">\n",
       "      <th></th>\n",
       "      <th>Age</th>\n",
       "      <th>Cholesterol</th>\n",
       "      <th>Blood Pressure</th>\n",
       "      <th>BMI</th>\n",
       "      <th>Smoking</th>\n",
       "      <th>Diagnosis</th>\n",
       "    </tr>\n",
       "  </thead>\n",
       "  <tbody>\n",
       "    <tr>\n",
       "      <th>0</th>\n",
       "      <td>58</td>\n",
       "      <td>155</td>\n",
       "      <td>118</td>\n",
       "      <td>33.0</td>\n",
       "      <td>0</td>\n",
       "      <td>1</td>\n",
       "    </tr>\n",
       "    <tr>\n",
       "      <th>1</th>\n",
       "      <td>71</td>\n",
       "      <td>296</td>\n",
       "      <td>136</td>\n",
       "      <td>28.8</td>\n",
       "      <td>0</td>\n",
       "      <td>1</td>\n",
       "    </tr>\n",
       "    <tr>\n",
       "      <th>2</th>\n",
       "      <td>48</td>\n",
       "      <td>229</td>\n",
       "      <td>160</td>\n",
       "      <td>35.9</td>\n",
       "      <td>0</td>\n",
       "      <td>1</td>\n",
       "    </tr>\n",
       "    <tr>\n",
       "      <th>3</th>\n",
       "      <td>34</td>\n",
       "      <td>241</td>\n",
       "      <td>113</td>\n",
       "      <td>38.9</td>\n",
       "      <td>0</td>\n",
       "      <td>1</td>\n",
       "    </tr>\n",
       "    <tr>\n",
       "      <th>4</th>\n",
       "      <td>62</td>\n",
       "      <td>246</td>\n",
       "      <td>120</td>\n",
       "      <td>19.0</td>\n",
       "      <td>1</td>\n",
       "      <td>1</td>\n",
       "    </tr>\n",
       "  </tbody>\n",
       "</table>\n",
       "</div>"
      ],
      "text/plain": [
       "   Age  Cholesterol  Blood Pressure   BMI  Smoking  Diagnosis\n",
       "0   58          155             118  33.0        0          1\n",
       "1   71          296             136  28.8        0          1\n",
       "2   48          229             160  35.9        0          1\n",
       "3   34          241             113  38.9        0          1\n",
       "4   62          246             120  19.0        1          1"
      ]
     },
     "execution_count": 72,
     "metadata": {},
     "output_type": "execute_result"
    }
   ],
   "source": [
    "health_data_path = \"/Users/agnesslungu/Downloads/heart_disease_data.csv\"\n",
    "health_data = pd.read_csv(health_data_path)\n",
    "health_data.head()"
   ]
  },
  {
   "cell_type": "code",
   "execution_count": 74,
   "metadata": {},
   "outputs": [
    {
     "data": {
      "text/plain": [
       "Age               2134\n",
       "Cholesterol       2134\n",
       "Blood Pressure    2134\n",
       "BMI               2134\n",
       "Smoking           2134\n",
       "Diagnosis         2134\n",
       "dtype: int64"
      ]
     },
     "execution_count": 74,
     "metadata": {},
     "output_type": "execute_result"
    }
   ],
   "source": [
    "health_data.isnull().sum() # here i am checking for null values so that I handle them\n"
   ]
  },
  {
   "cell_type": "code",
   "execution_count": 75,
   "metadata": {},
   "outputs": [
    {
     "name": "stdout",
     "output_type": "stream",
     "text": [
      "<class 'pandas.core.frame.DataFrame'>\n",
      "RangeIndex: 2134 entries, 0 to 2133\n",
      "Data columns (total 6 columns):\n",
      " #   Column          Non-Null Count  Dtype  \n",
      "---  ------          --------------  -----  \n",
      " 0   Age             2134 non-null   int64  \n",
      " 1   Cholesterol     2134 non-null   int64  \n",
      " 2   Blood Pressure  2134 non-null   int64  \n",
      " 3   BMI             2134 non-null   float64\n",
      " 4   Smoking         2134 non-null   int64  \n",
      " 5   Diagnosis       2134 non-null   int64  \n",
      "dtypes: float64(1), int64(5)\n",
      "memory usage: 100.2 KB\n"
     ]
    }
   ],
   "source": [
    "health_data.info() #checking for categorical data so that i make it numerical"
   ]
  },
  {
   "cell_type": "code",
   "execution_count": 76,
   "metadata": {},
   "outputs": [],
   "source": [
    "from sklearn.preprocessing import StandardScaler\n",
    "\n",
    "scaler = StandardScaler()\n",
    "health_data[['Age', 'Cholesterol', 'Blood Pressure', 'BMI']] = scaler.fit_transform(health_data[['Age', 'Cholesterol', 'Blood Pressure', 'BMI']])\n"
   ]
  },
  {
   "cell_type": "code",
   "execution_count": 78,
   "metadata": {},
   "outputs": [
    {
     "name": "stdout",
     "output_type": "stream",
     "text": [
      "Number of features: 5\n"
     ]
    }
   ],
   "source": [
    "num_features = health_data.shape[1] - 1  # Subtract 1 to exclude the target column\n",
    "print(\"Number of features:\", num_features)\n",
    "\n",
    "weights = np.zeros(num_features)\n",
    "bias = 0\n",
    "\n"
   ]
  },
  {
   "cell_type": "code",
   "execution_count": 97,
   "metadata": {},
   "outputs": [],
   "source": [
    "from sklearn.model_selection import train_test_split\n",
    "\n",
    "# Define features (X) and target (y)\n",
    "X = health_data[['Age', 'Cholesterol', 'Blood Pressure', 'BMI', 'Smoking']].values  # Only the 5 features we selected\n",
    "y = health_data['Diagnosis'].values  # Target column\n",
    "\n",
    "# Split data into training and testing sets\n",
    "X_train, X_test, y_train, y_test = train_test_split(X, y, test_size=0.2, random_state=42)\n"
   ]
  },
  {
   "cell_type": "code",
   "execution_count": 98,
   "metadata": {},
   "outputs": [],
   "source": [
    "def sigmoid(z):\n",
    "    return 1 / (1 + np.exp(-z))\n"
   ]
  },
  {
   "cell_type": "code",
   "execution_count": 99,
   "metadata": {},
   "outputs": [],
   "source": [
    "def train_logistic_regression(X, y, weights, bias, learning_rate, num_iterations):\n",
    "    for i in range(num_iterations):\n",
    "        # Calculate linear model\n",
    "        linear_model = np.dot(X, weights) + bias\n",
    "        # Apply sigmoid to get predicted probabilities\n",
    "        y_pred = sigmoid(linear_model)\n",
    "        \n",
    "        # Compute gradients\n",
    "        dw = (1 / len(y)) * np.dot(X.T, (y_pred - y))\n",
    "        db = (1 / len(y)) * np.sum(y_pred - y)\n",
    "        \n",
    "        # Update weights and bias\n",
    "        weights -= learning_rate * dw\n",
    "        bias -= learning_rate * db\n",
    "\n",
    "    return weights, bias\n"
   ]
  },
  {
   "cell_type": "code",
   "execution_count": 112,
   "metadata": {},
   "outputs": [],
   "source": [
    "learning_rate = 0.02\n",
    "num_iterations = 10000\n",
    "\n",
    "weights, bias = train_logistic_regression(X,y, \n",
    "                                          weights, bias, \n",
    "                                          learning_rate, num_iterations)\n"
   ]
  },
  {
   "cell_type": "code",
   "execution_count": 113,
   "metadata": {},
   "outputs": [],
   "source": [
    "def predict(X, weights, bias):\n",
    "    linear_model = np.dot(X, weights) + bias\n",
    "    y_pred_prob = sigmoid(linear_model)\n",
    "    y_pred_class = [1 if prob >= 0.6 else 0 for prob in y_pred_prob]\n",
    "    return y_pred_class\n"
   ]
  },
  {
   "cell_type": "code",
   "execution_count": 114,
   "metadata": {},
   "outputs": [
    {
     "name": "stdout",
     "output_type": "stream",
     "text": [
      "Accuracy: 0.9180327868852459\n",
      "Precision: 0.9180327868852459\n",
      "Recall: 1.0\n"
     ]
    }
   ],
   "source": [
    "from sklearn.metrics import accuracy_score, precision_score, recall_score\n",
    "\n",
    "y_test_pred = predict(X_test, weights, bias)\n",
    "accuracy = accuracy_score(y_test, y_test_pred)\n",
    "precision = precision_score(y_test, y_test_pred)\n",
    "recall = recall_score(y_test, y_test_pred)\n",
    "\n",
    "print(\"Accuracy:\", accuracy)\n",
    "print(\"Precision:\", precision)\n",
    "print(\"Recall:\", recall)\n"
   ]
  },
  {
   "cell_type": "markdown",
   "metadata": {},
   "source": [
    "here i am tryong to see if we can increase accuracy by using an existing regression model"
   ]
  },
  {
   "cell_type": "code",
   "execution_count": 111,
   "metadata": {},
   "outputs": [
    {
     "name": "stdout",
     "output_type": "stream",
     "text": [
      "Accuracy: 0.9180327868852459\n",
      "Precision: 0.9180327868852459\n",
      "Recall: 1.0\n"
     ]
    }
   ],
   "source": [
    "from sklearn.linear_model import LogisticRegression\n",
    "from sklearn.metrics import accuracy_score, precision_score, recall_score\n",
    "\n",
    "# Initialize the Logistic Regression model\n",
    "log_reg_model = LogisticRegression(max_iter=1000, random_state=42)\n",
    "\n",
    "# Train the model on the training data\n",
    "log_reg_model.fit(X_train, y_train)\n",
    "\n",
    "# Predict on the test data\n",
    "y_test_pred = log_reg_model.predict(X_test)\n",
    "\n",
    "# Calculate metrics\n",
    "accuracy = accuracy_score(y_test, y_test_pred)\n",
    "precision = precision_score(y_test, y_test_pred)\n",
    "recall = recall_score(y_test, y_test_pred)\n",
    "\n",
    "print(\"Accuracy:\", accuracy)\n",
    "print(\"Precision:\", precision)\n",
    "print(\"Recall:\", recall)\n"
   ]
  },
  {
   "cell_type": "markdown",
   "metadata": {},
   "source": [
    "drawing ROC curve for my regresion model"
   ]
  },
  {
   "cell_type": "code",
   "execution_count": 115,
   "metadata": {},
   "outputs": [
    {
     "name": "stdout",
     "output_type": "stream",
     "text": [
      "ROC-AUC Score: 0.6212099125364432\n"
     ]
    },
    {
     "data": {
      "image/png": "[encoded data removed]",
      "text/plain": [
       "<Figure size 432x288 with 1 Axes>"
      ]
     },
     "metadata": {
      "needs_background": "light"
     },
     "output_type": "display_data"
    }
   ],
   "source": [
    "from sklearn.metrics import roc_auc_score, roc_curve\n",
    "import matplotlib.pyplot as plt\n",
    "\n",
    "# Predict probabilities for the positive class (heart disease = 1)\n",
    "y_test_prob = log_reg_model.predict_proba(X_test)[:, 1]\n",
    "\n",
    "# Calculate ROC-AUC score\n",
    "roc_auc = roc_auc_score(y_test, y_test_prob)\n",
    "print(\"ROC-AUC Score:\", roc_auc)\n",
    "\n",
    "# Generate ROC curve values: false positive rate, true positive rate, and threshold\n",
    "fpr, tpr, thresholds = roc_curve(y_test, y_test_prob)\n",
    "\n",
    "# Plot the ROC curve\n",
    "plt.figure()\n",
    "plt.plot(fpr, tpr, label=\"Logistic Regression (AUC = {:.2f})\".format(roc_auc))\n",
    "plt.plot([0, 1], [0, 1], color=\"red\", linestyle=\"--\")  # Plot a diagonal line for random guessing\n",
    "plt.xlabel(\"False Positive Rate\")\n",
    "plt.ylabel(\"True Positive Rate\")\n",
    "plt.title(\"ROC Curve\")\n",
    "plt.legend(loc=\"lower right\")\n",
    "plt.show()\n"
   ]
  },
  {
   "cell_type": "code",
   "execution_count": 116,
   "metadata": {},
   "outputs": [
    {
     "name": "stdout",
     "output_type": "stream",
     "text": [
      "Age: 0.43708553295323704\n",
      "Cholesterol: 0.12154733498767041\n",
      "Blood Pressure: -0.010931098222719511\n",
      "BMI: 0.03480941172209979\n",
      "Smoking: 0.29426417995173465\n"
     ]
    }
   ],
   "source": [
    "weights, bias = train_logistic_regression(X_train, y_train, weights, bias, learning_rate, num_iterations)\n",
    "\n",
    "# Mapping weights to feature names for interpretation\n",
    "feature_names = ['Age', 'Cholesterol', 'Blood Pressure', 'BMI', 'Smoking']\n",
    "for feature, coef in zip(feature_names, weights):\n",
    "    print(f\"{feature}: {coef}\")\n"
   ]
  },
  {
   "cell_type": "markdown",
   "metadata": {},
   "source": [
    "The logistic regression model reveals key insights into factors affecting heart disease risk. Age has the strongest positive coefficient (0.44), indicating that as age increases, so does the likelihood of heart disease, making it a major risk factor. Smoking also contributes significantly (0.29), reinforcing its well-known association with cardiovascular issues. Cholesterol and BMI have smaller positive coefficients (0.12 and 0.03), suggesting a less pronounced but still relevant impact on risk. Interestingly, Blood Pressure has a slightly negative coefficient (-0.01), implying a minor association with lower risk, which may indicate some noise in the data or suggest further investigation is needed. Overall, age and smoking emerge as the most influential predictors in this model, helping clarify where to focus when assessing heart disease risk."
   ]
  },
  {
   "cell_type": "markdown",
   "metadata": {},
   "source": [
    "During the logistic regression process, I made a few assumptions, primarily that there’s a linear relationship between the features and the log-odds of heart disease, meaning each feature would consistently influence the outcome. I assumed that the selected features were relevant predictors and scaled the continuous ones to prevent any single feature from having an outsized impact on the model. To validate these assumptions, I checked performance metrics like accuracy, precision, recall, and the ROC-AUC score to assess how well the model distinguished between cases with and without heart disease. Analyzing the coefficients also helped confirm expected patterns, such as age and smoking having a positive association with heart disease, which aligned with my initial assumptions. Any unexpected results, like the slight negative relationship with blood pressure, indicated areas for further data exploration or feature adjustments."
   ]
  },
  {
   "cell_type": "markdown",
   "metadata": {},
   "source": [
    "Trying to Optimize with MLE"
   ]
  },
  {
   "cell_type": "code",
   "execution_count": 117,
   "metadata": {},
   "outputs": [],
   "source": [
    "import numpy as np\n",
    "from scipy.optimize import minimize\n",
    "\n",
    "# Define the negative log-likelihood function\n",
    "def neg_log_likelihood(params, X, y):\n",
    "    weights = params[:-1]  # All except the last element for weights\n",
    "    bias = params[-1]  # Last element for bias\n",
    "    linear_model = np.dot(X, weights) + bias\n",
    "    y_pred = sigmoid(linear_model)\n",
    "    \n",
    "    # Negative log-likelihood\n",
    "    nll = -np.sum(y * np.log(y_pred) + (1 - y) * np.log(1 - y_pred))\n",
    "    return nll\n"
   ]
  },
  {
   "cell_type": "code",
   "execution_count": 118,
   "metadata": {},
   "outputs": [],
   "source": [
    "# Initial parameter values (weights and bias)\n",
    "initial_params = np.zeros(X_train.shape[1] + 1)  # +1 for bias\n",
    "\n",
    "# Use scipy's minimize function to optimize\n",
    "result = minimize(neg_log_likelihood, initial_params, args=(X_train, y_train), method='BFGS')\n",
    "\n",
    "# Extract optimized weights and bias\n",
    "optimal_params = result.x\n",
    "weights, bias = optimal_params[:-1], optimal_params[-1]\n"
   ]
  },
  {
   "cell_type": "code",
   "execution_count": 119,
   "metadata": {},
   "outputs": [
    {
     "name": "stdout",
     "output_type": "stream",
     "text": [
      "Optimized weights: [ 0.43707429  0.1215448  -0.01093709  0.03481266  0.29448827]\n",
      "Optimized bias: 2.1826191691171672\n"
     ]
    }
   ],
   "source": [
    "# Print the optimized weights and bias\n",
    "print(\"Optimized weights:\", weights)\n",
    "print(\"Optimized bias:\", bias)"
   ]
  },
  {
   "cell_type": "code",
   "execution_count": 120,
   "metadata": {},
   "outputs": [
    {
     "name": "stdout",
     "output_type": "stream",
     "text": [
      "Accuracy: 0.9180327868852459\n",
      "Precision: 0.9180327868852459\n",
      "Recall: 1.0\n"
     ]
    }
   ],
   "source": [
    "# Prediction function using optimized parameters\n",
    "def predict(X, weights, bias):\n",
    "    linear_model = np.dot(X, weights) + bias\n",
    "    y_pred_prob = sigmoid(linear_model)\n",
    "    y_pred_class = [1 if prob >= 0.5 else 0 for prob in y_pred_prob]\n",
    "    return y_pred_class\n",
    "\n",
    "# Make predictions on the test set\n",
    "y_test_pred = predict(X_test, weights, bias)\n",
    "\n",
    "# Evaluate the model using accuracy, precision, and recall\n",
    "from sklearn.metrics import accuracy_score, precision_score, recall_score\n",
    "\n",
    "accuracy = accuracy_score(y_test, y_test_pred)\n",
    "precision = precision_score(y_test, y_test_pred)\n",
    "recall = recall_score(y_test, y_test_pred)\n",
    "\n",
    "print(\"Accuracy:\", accuracy)\n",
    "print(\"Precision:\", precision)\n",
    "print(\"Recall:\", recall)"
   ]
  },
  {
   "cell_type": "markdown",
   "metadata": {},
   "source": [
    "Not a difference even with MLE"
   ]
  },
  {
   "cell_type": "markdown",
   "metadata": {},
   "source": [
    "Question 3: K-Means and PCA (50 points)\n",
    "Suppose you are a graduate student helping your professor to analyze a DNA microarray data, generated\n",
    "in 1996 to study cancer. The dataset contains expression information from cell samples from bone marrow\n",
    "and peripheral blood. Your task is to analyze the data using K-means clustering and PCA. First load the\n",
    "dataset data set ALL AML train.csv, which contains 38 patients. Discard the columns ’call.X’.\n",
    "• Implement PCA on the dataset to reduce its dimensionality. Explain the steps you took, including\n",
    "standardization of features, computation of the covariance matrix, and extraction of eigenvalues and\n",
    "eigenvectors.\n",
    "• Determine how many principal components to retain by analyzing the explained variance. Justify your\n",
    "choice of components based on the variance explained.\n",
    "• Use the reduced-dimensional dataset from PCA to perform K-means clustering. Describe the initial-\n",
    "ization process and how you determined the optimal number of clusters (K). Implement the Elbow\n",
    "Method and/or Silhouette Score (you can search for what Elbow Method/Silhouette Score is and both\n",
    "are commonly used for decision for K) to support your decision. Visualize the clusters formed in the\n",
    "PCA-reduced space. Suppose one cluster corresponds one potential cancer type.\n",
    "• Discuss the benefits of using PCA before K-means. How did dimensionality reduction affect the\n",
    "clustering results and the interpretability of the clusters?\n",
    "• Identify potential limitations of using PCA in conjunction with K-means. How might the assumptions\n",
    "of PCA (e.g., linearity) impact the clustering results?\n",
    "page 2 of 2\n"
   ]
  },
  {
   "cell_type": "code",
   "execution_count": 135,
   "metadata": {},
   "outputs": [
    {
     "data": {
      "text/html": [
       "<div>\n",
       "<style scoped>\n",
       "    .dataframe tbody tr th:only-of-type {\n",
       "        vertical-align: middle;\n",
       "    }\n",
       "\n",
       "    .dataframe tbody tr th {\n",
       "        vertical-align: top;\n",
       "    }\n",
       "\n",
       "    .dataframe thead th {\n",
       "        text-align: right;\n",
       "    }\n",
       "</style>\n",
       "<table border=\"1\" class=\"dataframe\">\n",
       "  <thead>\n",
       "    <tr style=\"text-align: right;\">\n",
       "      <th></th>\n",
       "      <th>Gene Description</th>\n",
       "      <th>Gene Accession Number</th>\n",
       "      <th>1</th>\n",
       "      <th>call</th>\n",
       "      <th>2</th>\n",
       "      <th>call.1</th>\n",
       "      <th>3</th>\n",
       "      <th>call.2</th>\n",
       "      <th>4</th>\n",
       "      <th>call.3</th>\n",
       "      <th>...</th>\n",
       "      <th>29</th>\n",
       "      <th>call.33</th>\n",
       "      <th>30</th>\n",
       "      <th>call.34</th>\n",
       "      <th>31</th>\n",
       "      <th>call.35</th>\n",
       "      <th>32</th>\n",
       "      <th>call.36</th>\n",
       "      <th>33</th>\n",
       "      <th>call.37</th>\n",
       "    </tr>\n",
       "  </thead>\n",
       "  <tbody>\n",
       "    <tr>\n",
       "      <th>0</th>\n",
       "      <td>AFFX-BioB-5_at (endogenous control)</td>\n",
       "      <td>AFFX-BioB-5_at</td>\n",
       "      <td>-214</td>\n",
       "      <td>A</td>\n",
       "      <td>-139</td>\n",
       "      <td>A</td>\n",
       "      <td>-76</td>\n",
       "      <td>A</td>\n",
       "      <td>-135</td>\n",
       "      <td>A</td>\n",
       "      <td>...</td>\n",
       "      <td>15</td>\n",
       "      <td>A</td>\n",
       "      <td>-318</td>\n",
       "      <td>A</td>\n",
       "      <td>-32</td>\n",
       "      <td>A</td>\n",
       "      <td>-124</td>\n",
       "      <td>A</td>\n",
       "      <td>-135</td>\n",
       "      <td>A</td>\n",
       "    </tr>\n",
       "    <tr>\n",
       "      <th>1</th>\n",
       "      <td>AFFX-BioB-M_at (endogenous control)</td>\n",
       "      <td>AFFX-BioB-M_at</td>\n",
       "      <td>-153</td>\n",
       "      <td>A</td>\n",
       "      <td>-73</td>\n",
       "      <td>A</td>\n",
       "      <td>-49</td>\n",
       "      <td>A</td>\n",
       "      <td>-114</td>\n",
       "      <td>A</td>\n",
       "      <td>...</td>\n",
       "      <td>-114</td>\n",
       "      <td>A</td>\n",
       "      <td>-192</td>\n",
       "      <td>A</td>\n",
       "      <td>-49</td>\n",
       "      <td>A</td>\n",
       "      <td>-79</td>\n",
       "      <td>A</td>\n",
       "      <td>-186</td>\n",
       "      <td>A</td>\n",
       "    </tr>\n",
       "    <tr>\n",
       "      <th>2</th>\n",
       "      <td>AFFX-BioB-3_at (endogenous control)</td>\n",
       "      <td>AFFX-BioB-3_at</td>\n",
       "      <td>-58</td>\n",
       "      <td>A</td>\n",
       "      <td>-1</td>\n",
       "      <td>A</td>\n",
       "      <td>-307</td>\n",
       "      <td>A</td>\n",
       "      <td>265</td>\n",
       "      <td>A</td>\n",
       "      <td>...</td>\n",
       "      <td>2</td>\n",
       "      <td>A</td>\n",
       "      <td>-95</td>\n",
       "      <td>A</td>\n",
       "      <td>49</td>\n",
       "      <td>A</td>\n",
       "      <td>-37</td>\n",
       "      <td>A</td>\n",
       "      <td>-70</td>\n",
       "      <td>A</td>\n",
       "    </tr>\n",
       "    <tr>\n",
       "      <th>3</th>\n",
       "      <td>AFFX-BioC-5_at (endogenous control)</td>\n",
       "      <td>AFFX-BioC-5_at</td>\n",
       "      <td>88</td>\n",
       "      <td>A</td>\n",
       "      <td>283</td>\n",
       "      <td>A</td>\n",
       "      <td>309</td>\n",
       "      <td>A</td>\n",
       "      <td>12</td>\n",
       "      <td>A</td>\n",
       "      <td>...</td>\n",
       "      <td>193</td>\n",
       "      <td>A</td>\n",
       "      <td>312</td>\n",
       "      <td>A</td>\n",
       "      <td>230</td>\n",
       "      <td>P</td>\n",
       "      <td>330</td>\n",
       "      <td>A</td>\n",
       "      <td>337</td>\n",
       "      <td>A</td>\n",
       "    </tr>\n",
       "    <tr>\n",
       "      <th>4</th>\n",
       "      <td>AFFX-BioC-3_at (endogenous control)</td>\n",
       "      <td>AFFX-BioC-3_at</td>\n",
       "      <td>-295</td>\n",
       "      <td>A</td>\n",
       "      <td>-264</td>\n",
       "      <td>A</td>\n",
       "      <td>-376</td>\n",
       "      <td>A</td>\n",
       "      <td>-419</td>\n",
       "      <td>A</td>\n",
       "      <td>...</td>\n",
       "      <td>-51</td>\n",
       "      <td>A</td>\n",
       "      <td>-139</td>\n",
       "      <td>A</td>\n",
       "      <td>-367</td>\n",
       "      <td>A</td>\n",
       "      <td>-188</td>\n",
       "      <td>A</td>\n",
       "      <td>-407</td>\n",
       "      <td>A</td>\n",
       "    </tr>\n",
       "  </tbody>\n",
       "</table>\n",
       "<p>5 rows × 78 columns</p>\n",
       "</div>"
      ],
      "text/plain": [
       "                      Gene Description Gene Accession Number    1 call    2  \\\n",
       "0  AFFX-BioB-5_at (endogenous control)        AFFX-BioB-5_at -214    A -139   \n",
       "1  AFFX-BioB-M_at (endogenous control)        AFFX-BioB-M_at -153    A  -73   \n",
       "2  AFFX-BioB-3_at (endogenous control)        AFFX-BioB-3_at  -58    A   -1   \n",
       "3  AFFX-BioC-5_at (endogenous control)        AFFX-BioC-5_at   88    A  283   \n",
       "4  AFFX-BioC-3_at (endogenous control)        AFFX-BioC-3_at -295    A -264   \n",
       "\n",
       "  call.1    3 call.2    4 call.3  ...   29 call.33   30 call.34   31 call.35  \\\n",
       "0      A  -76      A -135      A  ...   15       A -318       A  -32       A   \n",
       "1      A  -49      A -114      A  ... -114       A -192       A  -49       A   \n",
       "2      A -307      A  265      A  ...    2       A  -95       A   49       A   \n",
       "3      A  309      A   12      A  ...  193       A  312       A  230       P   \n",
       "4      A -376      A -419      A  ...  -51       A -139       A -367       A   \n",
       "\n",
       "    32 call.36   33 call.37  \n",
       "0 -124       A -135       A  \n",
       "1  -79       A -186       A  \n",
       "2  -37       A  -70       A  \n",
       "3  330       A  337       A  \n",
       "4 -188       A -407       A  \n",
       "\n",
       "[5 rows x 78 columns]"
      ]
     },
     "execution_count": 135,
     "metadata": {},
     "output_type": "execute_result"
    }
   ],
   "source": [
    "#reading in the dataset\n",
    "cancer_data_path = \"/Users/agnesslungu/Downloads/data_set_ALL_AML_train.csv\"\n",
    "cancer_data = pd.read_csv(cancer_data_path)\n",
    "cancer_data.head()"
   ]
  },
  {
   "cell_type": "code",
   "execution_count": 136,
   "metadata": {},
   "outputs": [
    {
     "name": "stdout",
     "output_type": "stream",
     "text": [
      "[0]\n"
     ]
    }
   ],
   "source": [
    "print(cancer_data.isnull().sum().unique()) #checking for null values "
   ]
  },
  {
   "cell_type": "code",
   "execution_count": 138,
   "metadata": {},
   "outputs": [],
   "source": [
    "#dropping all the call.x columns using pandas \n",
    "\n",
    "cancer_data = cancer_data.drop(columns=[col for col in cancer_data.columns if col.startswith('call')])\n",
    "\n"
   ]
  },
  {
   "cell_type": "code",
   "execution_count": 139,
   "metadata": {},
   "outputs": [
    {
     "data": {
      "text/html": [
       "<div>\n",
       "<style scoped>\n",
       "    .dataframe tbody tr th:only-of-type {\n",
       "        vertical-align: middle;\n",
       "    }\n",
       "\n",
       "    .dataframe tbody tr th {\n",
       "        vertical-align: top;\n",
       "    }\n",
       "\n",
       "    .dataframe thead th {\n",
       "        text-align: right;\n",
       "    }\n",
       "</style>\n",
       "<table border=\"1\" class=\"dataframe\">\n",
       "  <thead>\n",
       "    <tr style=\"text-align: right;\">\n",
       "      <th></th>\n",
       "      <th>Gene Description</th>\n",
       "      <th>Gene Accession Number</th>\n",
       "      <th>1</th>\n",
       "      <th>2</th>\n",
       "      <th>3</th>\n",
       "      <th>4</th>\n",
       "      <th>5</th>\n",
       "      <th>6</th>\n",
       "      <th>7</th>\n",
       "      <th>8</th>\n",
       "      <th>...</th>\n",
       "      <th>35</th>\n",
       "      <th>36</th>\n",
       "      <th>37</th>\n",
       "      <th>38</th>\n",
       "      <th>28</th>\n",
       "      <th>29</th>\n",
       "      <th>30</th>\n",
       "      <th>31</th>\n",
       "      <th>32</th>\n",
       "      <th>33</th>\n",
       "    </tr>\n",
       "  </thead>\n",
       "  <tbody>\n",
       "    <tr>\n",
       "      <th>0</th>\n",
       "      <td>AFFX-BioB-5_at (endogenous control)</td>\n",
       "      <td>AFFX-BioB-5_at</td>\n",
       "      <td>-214</td>\n",
       "      <td>-139</td>\n",
       "      <td>-76</td>\n",
       "      <td>-135</td>\n",
       "      <td>-106</td>\n",
       "      <td>-138</td>\n",
       "      <td>-72</td>\n",
       "      <td>-413</td>\n",
       "      <td>...</td>\n",
       "      <td>7</td>\n",
       "      <td>-213</td>\n",
       "      <td>-25</td>\n",
       "      <td>-72</td>\n",
       "      <td>-4</td>\n",
       "      <td>15</td>\n",
       "      <td>-318</td>\n",
       "      <td>-32</td>\n",
       "      <td>-124</td>\n",
       "      <td>-135</td>\n",
       "    </tr>\n",
       "    <tr>\n",
       "      <th>1</th>\n",
       "      <td>AFFX-BioB-M_at (endogenous control)</td>\n",
       "      <td>AFFX-BioB-M_at</td>\n",
       "      <td>-153</td>\n",
       "      <td>-73</td>\n",
       "      <td>-49</td>\n",
       "      <td>-114</td>\n",
       "      <td>-125</td>\n",
       "      <td>-85</td>\n",
       "      <td>-144</td>\n",
       "      <td>-260</td>\n",
       "      <td>...</td>\n",
       "      <td>-100</td>\n",
       "      <td>-252</td>\n",
       "      <td>-20</td>\n",
       "      <td>-139</td>\n",
       "      <td>-116</td>\n",
       "      <td>-114</td>\n",
       "      <td>-192</td>\n",
       "      <td>-49</td>\n",
       "      <td>-79</td>\n",
       "      <td>-186</td>\n",
       "    </tr>\n",
       "    <tr>\n",
       "      <th>2</th>\n",
       "      <td>AFFX-BioB-3_at (endogenous control)</td>\n",
       "      <td>AFFX-BioB-3_at</td>\n",
       "      <td>-58</td>\n",
       "      <td>-1</td>\n",
       "      <td>-307</td>\n",
       "      <td>265</td>\n",
       "      <td>-76</td>\n",
       "      <td>215</td>\n",
       "      <td>238</td>\n",
       "      <td>7</td>\n",
       "      <td>...</td>\n",
       "      <td>-57</td>\n",
       "      <td>136</td>\n",
       "      <td>124</td>\n",
       "      <td>-1</td>\n",
       "      <td>-125</td>\n",
       "      <td>2</td>\n",
       "      <td>-95</td>\n",
       "      <td>49</td>\n",
       "      <td>-37</td>\n",
       "      <td>-70</td>\n",
       "    </tr>\n",
       "    <tr>\n",
       "      <th>3</th>\n",
       "      <td>AFFX-BioC-5_at (endogenous control)</td>\n",
       "      <td>AFFX-BioC-5_at</td>\n",
       "      <td>88</td>\n",
       "      <td>283</td>\n",
       "      <td>309</td>\n",
       "      <td>12</td>\n",
       "      <td>168</td>\n",
       "      <td>71</td>\n",
       "      <td>55</td>\n",
       "      <td>-2</td>\n",
       "      <td>...</td>\n",
       "      <td>132</td>\n",
       "      <td>318</td>\n",
       "      <td>325</td>\n",
       "      <td>392</td>\n",
       "      <td>241</td>\n",
       "      <td>193</td>\n",
       "      <td>312</td>\n",
       "      <td>230</td>\n",
       "      <td>330</td>\n",
       "      <td>337</td>\n",
       "    </tr>\n",
       "    <tr>\n",
       "      <th>4</th>\n",
       "      <td>AFFX-BioC-3_at (endogenous control)</td>\n",
       "      <td>AFFX-BioC-3_at</td>\n",
       "      <td>-295</td>\n",
       "      <td>-264</td>\n",
       "      <td>-376</td>\n",
       "      <td>-419</td>\n",
       "      <td>-230</td>\n",
       "      <td>-272</td>\n",
       "      <td>-399</td>\n",
       "      <td>-541</td>\n",
       "      <td>...</td>\n",
       "      <td>-377</td>\n",
       "      <td>-209</td>\n",
       "      <td>-396</td>\n",
       "      <td>-324</td>\n",
       "      <td>-191</td>\n",
       "      <td>-51</td>\n",
       "      <td>-139</td>\n",
       "      <td>-367</td>\n",
       "      <td>-188</td>\n",
       "      <td>-407</td>\n",
       "    </tr>\n",
       "  </tbody>\n",
       "</table>\n",
       "<p>5 rows × 40 columns</p>\n",
       "</div>"
      ],
      "text/plain": [
       "                      Gene Description Gene Accession Number    1    2    3  \\\n",
       "0  AFFX-BioB-5_at (endogenous control)        AFFX-BioB-5_at -214 -139  -76   \n",
       "1  AFFX-BioB-M_at (endogenous control)        AFFX-BioB-M_at -153  -73  -49   \n",
       "2  AFFX-BioB-3_at (endogenous control)        AFFX-BioB-3_at  -58   -1 -307   \n",
       "3  AFFX-BioC-5_at (endogenous control)        AFFX-BioC-5_at   88  283  309   \n",
       "4  AFFX-BioC-3_at (endogenous control)        AFFX-BioC-3_at -295 -264 -376   \n",
       "\n",
       "     4    5    6    7    8  ...   35   36   37   38   28   29   30   31   32  \\\n",
       "0 -135 -106 -138  -72 -413  ...    7 -213  -25  -72   -4   15 -318  -32 -124   \n",
       "1 -114 -125  -85 -144 -260  ... -100 -252  -20 -139 -116 -114 -192  -49  -79   \n",
       "2  265  -76  215  238    7  ...  -57  136  124   -1 -125    2  -95   49  -37   \n",
       "3   12  168   71   55   -2  ...  132  318  325  392  241  193  312  230  330   \n",
       "4 -419 -230 -272 -399 -541  ... -377 -209 -396 -324 -191  -51 -139 -367 -188   \n",
       "\n",
       "    33  \n",
       "0 -135  \n",
       "1 -186  \n",
       "2  -70  \n",
       "3  337  \n",
       "4 -407  \n",
       "\n",
       "[5 rows x 40 columns]"
      ]
     },
     "execution_count": 139,
     "metadata": {},
     "output_type": "execute_result"
    }
   ],
   "source": [
    "cancer_data.head()"
   ]
  },
  {
   "cell_type": "code",
   "execution_count": 143,
   "metadata": {},
   "outputs": [],
   "source": [
    "# Dropping the non-numeric columns because they are not calling any useful information about the patient \n",
    "cancer_data= cancer_data.drop(columns=[\"Gene Description\", \"Gene Accession Number\"])\n"
   ]
  },
  {
   "cell_type": "code",
   "execution_count": 144,
   "metadata": {},
   "outputs": [
    {
     "data": {
      "text/html": [
       "<div>\n",
       "<style scoped>\n",
       "    .dataframe tbody tr th:only-of-type {\n",
       "        vertical-align: middle;\n",
       "    }\n",
       "\n",
       "    .dataframe tbody tr th {\n",
       "        vertical-align: top;\n",
       "    }\n",
       "\n",
       "    .dataframe thead th {\n",
       "        text-align: right;\n",
       "    }\n",
       "</style>\n",
       "<table border=\"1\" class=\"dataframe\">\n",
       "  <thead>\n",
       "    <tr style=\"text-align: right;\">\n",
       "      <th></th>\n",
       "      <th>1</th>\n",
       "      <th>2</th>\n",
       "      <th>3</th>\n",
       "      <th>4</th>\n",
       "      <th>5</th>\n",
       "      <th>6</th>\n",
       "      <th>7</th>\n",
       "      <th>8</th>\n",
       "      <th>9</th>\n",
       "      <th>10</th>\n",
       "      <th>...</th>\n",
       "      <th>35</th>\n",
       "      <th>36</th>\n",
       "      <th>37</th>\n",
       "      <th>38</th>\n",
       "      <th>28</th>\n",
       "      <th>29</th>\n",
       "      <th>30</th>\n",
       "      <th>31</th>\n",
       "      <th>32</th>\n",
       "      <th>33</th>\n",
       "    </tr>\n",
       "  </thead>\n",
       "  <tbody>\n",
       "    <tr>\n",
       "      <th>0</th>\n",
       "      <td>-214</td>\n",
       "      <td>-139</td>\n",
       "      <td>-76</td>\n",
       "      <td>-135</td>\n",
       "      <td>-106</td>\n",
       "      <td>-138</td>\n",
       "      <td>-72</td>\n",
       "      <td>-413</td>\n",
       "      <td>5</td>\n",
       "      <td>-88</td>\n",
       "      <td>...</td>\n",
       "      <td>7</td>\n",
       "      <td>-213</td>\n",
       "      <td>-25</td>\n",
       "      <td>-72</td>\n",
       "      <td>-4</td>\n",
       "      <td>15</td>\n",
       "      <td>-318</td>\n",
       "      <td>-32</td>\n",
       "      <td>-124</td>\n",
       "      <td>-135</td>\n",
       "    </tr>\n",
       "    <tr>\n",
       "      <th>1</th>\n",
       "      <td>-153</td>\n",
       "      <td>-73</td>\n",
       "      <td>-49</td>\n",
       "      <td>-114</td>\n",
       "      <td>-125</td>\n",
       "      <td>-85</td>\n",
       "      <td>-144</td>\n",
       "      <td>-260</td>\n",
       "      <td>-127</td>\n",
       "      <td>-105</td>\n",
       "      <td>...</td>\n",
       "      <td>-100</td>\n",
       "      <td>-252</td>\n",
       "      <td>-20</td>\n",
       "      <td>-139</td>\n",
       "      <td>-116</td>\n",
       "      <td>-114</td>\n",
       "      <td>-192</td>\n",
       "      <td>-49</td>\n",
       "      <td>-79</td>\n",
       "      <td>-186</td>\n",
       "    </tr>\n",
       "    <tr>\n",
       "      <th>2</th>\n",
       "      <td>-58</td>\n",
       "      <td>-1</td>\n",
       "      <td>-307</td>\n",
       "      <td>265</td>\n",
       "      <td>-76</td>\n",
       "      <td>215</td>\n",
       "      <td>238</td>\n",
       "      <td>7</td>\n",
       "      <td>106</td>\n",
       "      <td>42</td>\n",
       "      <td>...</td>\n",
       "      <td>-57</td>\n",
       "      <td>136</td>\n",
       "      <td>124</td>\n",
       "      <td>-1</td>\n",
       "      <td>-125</td>\n",
       "      <td>2</td>\n",
       "      <td>-95</td>\n",
       "      <td>49</td>\n",
       "      <td>-37</td>\n",
       "      <td>-70</td>\n",
       "    </tr>\n",
       "    <tr>\n",
       "      <th>3</th>\n",
       "      <td>88</td>\n",
       "      <td>283</td>\n",
       "      <td>309</td>\n",
       "      <td>12</td>\n",
       "      <td>168</td>\n",
       "      <td>71</td>\n",
       "      <td>55</td>\n",
       "      <td>-2</td>\n",
       "      <td>268</td>\n",
       "      <td>219</td>\n",
       "      <td>...</td>\n",
       "      <td>132</td>\n",
       "      <td>318</td>\n",
       "      <td>325</td>\n",
       "      <td>392</td>\n",
       "      <td>241</td>\n",
       "      <td>193</td>\n",
       "      <td>312</td>\n",
       "      <td>230</td>\n",
       "      <td>330</td>\n",
       "      <td>337</td>\n",
       "    </tr>\n",
       "    <tr>\n",
       "      <th>4</th>\n",
       "      <td>-295</td>\n",
       "      <td>-264</td>\n",
       "      <td>-376</td>\n",
       "      <td>-419</td>\n",
       "      <td>-230</td>\n",
       "      <td>-272</td>\n",
       "      <td>-399</td>\n",
       "      <td>-541</td>\n",
       "      <td>-210</td>\n",
       "      <td>-178</td>\n",
       "      <td>...</td>\n",
       "      <td>-377</td>\n",
       "      <td>-209</td>\n",
       "      <td>-396</td>\n",
       "      <td>-324</td>\n",
       "      <td>-191</td>\n",
       "      <td>-51</td>\n",
       "      <td>-139</td>\n",
       "      <td>-367</td>\n",
       "      <td>-188</td>\n",
       "      <td>-407</td>\n",
       "    </tr>\n",
       "  </tbody>\n",
       "</table>\n",
       "<p>5 rows × 38 columns</p>\n",
       "</div>"
      ],
      "text/plain": [
       "     1    2    3    4    5    6    7    8    9   10  ...   35   36   37   38  \\\n",
       "0 -214 -139  -76 -135 -106 -138  -72 -413    5  -88  ...    7 -213  -25  -72   \n",
       "1 -153  -73  -49 -114 -125  -85 -144 -260 -127 -105  ... -100 -252  -20 -139   \n",
       "2  -58   -1 -307  265  -76  215  238    7  106   42  ...  -57  136  124   -1   \n",
       "3   88  283  309   12  168   71   55   -2  268  219  ...  132  318  325  392   \n",
       "4 -295 -264 -376 -419 -230 -272 -399 -541 -210 -178  ... -377 -209 -396 -324   \n",
       "\n",
       "    28   29   30   31   32   33  \n",
       "0   -4   15 -318  -32 -124 -135  \n",
       "1 -116 -114 -192  -49  -79 -186  \n",
       "2 -125    2  -95   49  -37  -70  \n",
       "3  241  193  312  230  330  337  \n",
       "4 -191  -51 -139 -367 -188 -407  \n",
       "\n",
       "[5 rows x 38 columns]"
      ]
     },
     "execution_count": 144,
     "metadata": {},
     "output_type": "execute_result"
    }
   ],
   "source": [
    "cancer_data.head()"
   ]
  },
  {
   "cell_type": "code",
   "execution_count": 145,
   "metadata": {},
   "outputs": [],
   "source": [
    "\n",
    "standardized_data = StandardScaler().fit_transform(cancer_data)"
   ]
  },
  {
   "cell_type": "code",
   "execution_count": 146,
   "metadata": {},
   "outputs": [],
   "source": [
    "import numpy as np\n",
    "\n",
    "# Computing the covariance matrix here to see where the data varies the most\n",
    "covariance_matrix = np.cov(standardized_data, rowvar=False)\n",
    "\n",
    "\n",
    "# Calculate eigenvalues and eigenvectors\n",
    "eigenvalues, eigenvectors = np.linalg.eig(covariance_matrix)\n",
    "\n"
   ]
  },
  {
   "cell_type": "code",
   "execution_count": 148,
   "metadata": {},
   "outputs": [
    {
     "name": "stdout",
     "output_type": "stream",
     "text": [
      "[3.38959238e+01 6.13147527e-01 5.29513314e-01 4.92406634e-01\n",
      " 3.12120104e-01 2.59072171e-01 1.96803168e-01 1.50322035e-01\n",
      " 1.38155340e-01 1.21182873e-01 1.02948401e-01 9.76892003e-02\n",
      " 8.74603952e-02 7.49513322e-02 7.36406243e-02 6.94683813e-02\n",
      " 6.63003687e-02 5.96121517e-02 5.55282715e-02 5.51466672e-02\n",
      " 1.48305162e-02 1.67533325e-02 1.78584038e-02 1.94996690e-02\n",
      " 2.01702885e-02 2.21592521e-02 4.92137229e-02 4.64268983e-02\n",
      " 4.35299304e-02 4.18623075e-02 2.70904622e-02 2.77449442e-02\n",
      " 3.80413596e-02 3.66368928e-02 3.51164122e-02 3.37360303e-02\n",
      " 3.25313015e-02 3.07366401e-02]\n",
      "[[-0.16565211 -0.01867496  0.0712336  ...  0.10868218 -0.03504811\n",
      "   0.0070822 ]\n",
      " [-0.16467099  0.08538834  0.09212987 ...  0.07667907 -0.05969174\n",
      "   0.13189549]\n",
      " [-0.16134004 -0.15546421  0.02765862 ...  0.23569237 -0.10061865\n",
      "  -0.25600565]\n",
      " ...\n",
      " [-0.16528256  0.03073251 -0.1556395  ...  0.02747091  0.24364128\n",
      "  -0.05982919]\n",
      " [-0.16533151  0.12456431 -0.07890883 ... -0.16698855 -0.16475268\n",
      "   0.01265757]\n",
      " [-0.16064192  0.27764173 -0.18370473 ...  0.13882121 -0.12794408\n",
      "   0.20271258]]\n"
     ]
    }
   ],
   "source": [
    "print(eigenvalues)\n",
    "print(eigenvectors)"
   ]
  },
  {
   "cell_type": "code",
   "execution_count": 149,
   "metadata": {},
   "outputs": [],
   "source": [
    "# Sorting eigenvalues and eigenvectors in descending order\n",
    "sorted_indices = np.argsort(eigenvalues)[::-1]\n",
    "eigenvalues = eigenvalues[sorted_indices]\n",
    "eigenvectors = eigenvectors[:, sorted_indices]\n"
   ]
  },
  {
   "cell_type": "code",
   "execution_count": 150,
   "metadata": {},
   "outputs": [],
   "source": [
    "# Calculate cumulative variance\n",
    "total_variance = sum(eigenvalues)\n",
    "cumulative_variance = np.cumsum(eigenvalues) / total_variance\n",
    "\n",
    "# Determine the number of components to capture 95% of the variance\n",
    "num_components = np.where(cumulative_variance >= 0.95)[0][0] + 1\n"
   ]
  },
  {
   "cell_type": "code",
   "execution_count": 151,
   "metadata": {},
   "outputs": [],
   "source": [
    "# Select the top components\n",
    "selected_components = eigenvectors[:, :num_components]\n",
    "\n",
    "# Project the data onto the new components\n",
    "reduced_data = standardized_data.dot(selected_components)\n"
   ]
  },
  {
   "cell_type": "code",
   "execution_count": 154,
   "metadata": {},
   "outputs": [
    {
     "data": {
      "text/html": [
       "<div>\n",
       "<style scoped>\n",
       "    .dataframe tbody tr th:only-of-type {\n",
       "        vertical-align: middle;\n",
       "    }\n",
       "\n",
       "    .dataframe tbody tr th {\n",
       "        vertical-align: top;\n",
       "    }\n",
       "\n",
       "    .dataframe thead th {\n",
       "        text-align: right;\n",
       "    }\n",
       "</style>\n",
       "<table border=\"1\" class=\"dataframe\">\n",
       "  <thead>\n",
       "    <tr style=\"text-align: right;\">\n",
       "      <th></th>\n",
       "      <th>PC1</th>\n",
       "      <th>PC2</th>\n",
       "      <th>PC3</th>\n",
       "      <th>PC4</th>\n",
       "      <th>PC5</th>\n",
       "      <th>PC6</th>\n",
       "      <th>PC7</th>\n",
       "    </tr>\n",
       "  </thead>\n",
       "  <tbody>\n",
       "    <tr>\n",
       "      <th>1</th>\n",
       "      <td>-0.165652</td>\n",
       "      <td>-0.018675</td>\n",
       "      <td>0.071234</td>\n",
       "      <td>0.104277</td>\n",
       "      <td>-0.250271</td>\n",
       "      <td>0.088801</td>\n",
       "      <td>-0.043252</td>\n",
       "    </tr>\n",
       "    <tr>\n",
       "      <th>2</th>\n",
       "      <td>-0.164671</td>\n",
       "      <td>0.085388</td>\n",
       "      <td>0.092130</td>\n",
       "      <td>-0.138985</td>\n",
       "      <td>-0.037049</td>\n",
       "      <td>-0.118546</td>\n",
       "      <td>-0.159782</td>\n",
       "    </tr>\n",
       "    <tr>\n",
       "      <th>3</th>\n",
       "      <td>-0.161340</td>\n",
       "      <td>-0.155464</td>\n",
       "      <td>0.027659</td>\n",
       "      <td>-0.297072</td>\n",
       "      <td>-0.151235</td>\n",
       "      <td>-0.217442</td>\n",
       "      <td>-0.035506</td>\n",
       "    </tr>\n",
       "    <tr>\n",
       "      <th>4</th>\n",
       "      <td>-0.167740</td>\n",
       "      <td>-0.066100</td>\n",
       "      <td>0.030515</td>\n",
       "      <td>0.078863</td>\n",
       "      <td>-0.131024</td>\n",
       "      <td>-0.024310</td>\n",
       "      <td>0.005856</td>\n",
       "    </tr>\n",
       "    <tr>\n",
       "      <th>5</th>\n",
       "      <td>-0.166659</td>\n",
       "      <td>0.029480</td>\n",
       "      <td>0.152563</td>\n",
       "      <td>0.003893</td>\n",
       "      <td>0.077868</td>\n",
       "      <td>0.167398</td>\n",
       "      <td>0.147643</td>\n",
       "    </tr>\n",
       "  </tbody>\n",
       "</table>\n",
       "</div>"
      ],
      "text/plain": [
       "        PC1       PC2       PC3       PC4       PC5       PC6       PC7\n",
       "1 -0.165652 -0.018675  0.071234  0.104277 -0.250271  0.088801 -0.043252\n",
       "2 -0.164671  0.085388  0.092130 -0.138985 -0.037049 -0.118546 -0.159782\n",
       "3 -0.161340 -0.155464  0.027659 -0.297072 -0.151235 -0.217442 -0.035506\n",
       "4 -0.167740 -0.066100  0.030515  0.078863 -0.131024 -0.024310  0.005856\n",
       "5 -0.166659  0.029480  0.152563  0.003893  0.077868  0.167398  0.147643"
      ]
     },
     "execution_count": 154,
     "metadata": {},
     "output_type": "execute_result"
    }
   ],
   "source": [
    "\n",
    "\n",
    "loading_scores = pd.DataFrame(eigenvectors[:, :num_components], index=cancer_data.columns, columns=[f'PC{i+1}' for i in range(num_components)])\n",
    "\n",
    "\n",
    "loading_scores.head()\n"
   ]
  },
  {
   "cell_type": "code",
   "execution_count": 155,
   "metadata": {},
   "outputs": [
    {
     "name": "stdout",
     "output_type": "stream",
     "text": [
      "Top features for PC1:\n",
      "4     0.167740\n",
      "24    0.167295\n",
      "16    0.167073\n",
      "5     0.166659\n",
      "28    0.165889\n",
      "Name: PC1, dtype: float64\n"
     ]
    }
   ],
   "source": [
    "# Top contributing features for the first principal component (PC1)\n",
    "top_features_pc1 = loading_scores['PC1'].abs().sort_values(ascending=False).head(5)\n",
    "print(\"Top features for PC1:\")\n",
    "print(top_features_pc1)\n"
   ]
  },
  {
   "cell_type": "code",
   "execution_count": 162,
   "metadata": {},
   "outputs": [],
   "source": [
    "# Calculate the explained variance ratio from eigenvalues\n",
    "explained_variance_ratio = eigenvalues / sum(eigenvalues)\n",
    "\n",
    "# Calculate the cumulative explained variance\n",
    "cumulative_explained_variance = np.cumsum(explained_variance_ratio)\n"
   ]
  },
  {
   "cell_type": "code",
   "execution_count": 163,
   "metadata": {},
   "outputs": [
    {
     "data": {
      "image/png": "[encoded data removed]",
      "text/plain": [
       "<Figure size 432x288 with 1 Axes>"
      ]
     },
     "metadata": {
      "needs_background": "light"
     },
     "output_type": "display_data"
    }
   ],
   "source": [
    "import matplotlib.pyplot as plt\n",
    "\n",
    "plt.plot(range(1, len(cumulative_explained_variance) + 1), cumulative_explained_variance, marker='o')\n",
    "plt.xlabel('Number of Principal Components')\n",
    "plt.ylabel('Cumulative Explained Variance')\n",
    "plt.title('Explained Variance vs. Number of Principal Components')\n",
    "plt.grid()\n",
    "plt.show()\n"
   ]
  },
  {
   "cell_type": "markdown",
   "metadata": {},
   "source": [
    "about 10 features account for more than 95% of the variance. with this, we can choose to drop the other features and only keep the 10 for training "
   ]
  },
  {
   "cell_type": "code",
   "execution_count": 164,
   "metadata": {},
   "outputs": [],
   "source": [
    "selected_components = eigenvectors[:, :10]\n",
    "\n",
    "# Project the data onto the top 10 principal components\n",
    "reduced_data = standardized_data.dot(selected_components)\n"
   ]
  },
  {
   "cell_type": "code",
   "execution_count": 156,
   "metadata": {},
   "outputs": [
    {
     "name": "stderr",
     "output_type": "stream",
     "text": [
      "/Users/agnesslungu/opt/anaconda3/lib/python3.8/site-packages/sklearn/cluster/_kmeans.py:1416: FutureWarning: The default value of `n_init` will change from 10 to 'auto' in 1.4. Set the value of `n_init` explicitly to suppress the warning\n",
      "  super()._check_params_vs_input(X, default_n_init=10)\n",
      "/Users/agnesslungu/opt/anaconda3/lib/python3.8/site-packages/sklearn/cluster/_kmeans.py:1416: FutureWarning: The default value of `n_init` will change from 10 to 'auto' in 1.4. Set the value of `n_init` explicitly to suppress the warning\n",
      "  super()._check_params_vs_input(X, default_n_init=10)\n",
      "/Users/agnesslungu/opt/anaconda3/lib/python3.8/site-packages/sklearn/cluster/_kmeans.py:1416: FutureWarning: The default value of `n_init` will change from 10 to 'auto' in 1.4. Set the value of `n_init` explicitly to suppress the warning\n",
      "  super()._check_params_vs_input(X, default_n_init=10)\n",
      "/Users/agnesslungu/opt/anaconda3/lib/python3.8/site-packages/sklearn/cluster/_kmeans.py:1416: FutureWarning: The default value of `n_init` will change from 10 to 'auto' in 1.4. Set the value of `n_init` explicitly to suppress the warning\n",
      "  super()._check_params_vs_input(X, default_n_init=10)\n",
      "/Users/agnesslungu/opt/anaconda3/lib/python3.8/site-packages/sklearn/cluster/_kmeans.py:1416: FutureWarning: The default value of `n_init` will change from 10 to 'auto' in 1.4. Set the value of `n_init` explicitly to suppress the warning\n",
      "  super()._check_params_vs_input(X, default_n_init=10)\n",
      "/Users/agnesslungu/opt/anaconda3/lib/python3.8/site-packages/sklearn/cluster/_kmeans.py:1416: FutureWarning: The default value of `n_init` will change from 10 to 'auto' in 1.4. Set the value of `n_init` explicitly to suppress the warning\n",
      "  super()._check_params_vs_input(X, default_n_init=10)\n",
      "/Users/agnesslungu/opt/anaconda3/lib/python3.8/site-packages/sklearn/cluster/_kmeans.py:1416: FutureWarning: The default value of `n_init` will change from 10 to 'auto' in 1.4. Set the value of `n_init` explicitly to suppress the warning\n",
      "  super()._check_params_vs_input(X, default_n_init=10)\n",
      "/Users/agnesslungu/opt/anaconda3/lib/python3.8/site-packages/sklearn/cluster/_kmeans.py:1416: FutureWarning: The default value of `n_init` will change from 10 to 'auto' in 1.4. Set the value of `n_init` explicitly to suppress the warning\n",
      "  super()._check_params_vs_input(X, default_n_init=10)\n",
      "/Users/agnesslungu/opt/anaconda3/lib/python3.8/site-packages/sklearn/cluster/_kmeans.py:1416: FutureWarning: The default value of `n_init` will change from 10 to 'auto' in 1.4. Set the value of `n_init` explicitly to suppress the warning\n",
      "  super()._check_params_vs_input(X, default_n_init=10)\n"
     ]
    },
    {
     "data": {
      "image/png": "[encoded data removed]",
      "text/plain": [
       "<Figure size 432x288 with 1 Axes>"
      ]
     },
     "metadata": {
      "needs_background": "light"
     },
     "output_type": "display_data"
    }
   ],
   "source": [
    "from sklearn.cluster import KMeans\n",
    "import matplotlib.pyplot as plt\n",
    "\n",
    "# Trying different values of k here\n",
    "sum_of_squared_distances = []\n",
    "K = range(1, 10)  # Example range from 1 to 10 clusters\n",
    "for k in K:\n",
    "    kmeans = KMeans(n_clusters=k, random_state=42)\n",
    "    kmeans.fit(reduced_data)\n",
    "    sum_of_squared_distances.append(kmeans.inertia_)\n",
    "\n",
    "# Ploting the Elbow graph\n",
    "plt.plot(K, sum_of_squared_distances, 'bx-')\n",
    "plt.xlabel('Number of clusters (k)')\n",
    "plt.ylabel('Sum of squared distances')\n",
    "plt.title('Elbow Method for Optimal k')\n",
    "plt.show()\n"
   ]
  },
  {
   "cell_type": "markdown",
   "metadata": {},
   "source": [
    "From the plot, I think I am picking two clusters. the biggest difference happens between 1 and 2"
   ]
  },
  {
   "cell_type": "code",
   "execution_count": 160,
   "metadata": {},
   "outputs": [
    {
     "name": "stderr",
     "output_type": "stream",
     "text": [
      "/Users/agnesslungu/opt/anaconda3/lib/python3.8/site-packages/sklearn/cluster/_kmeans.py:1416: FutureWarning: The default value of `n_init` will change from 10 to 'auto' in 1.4. Set the value of `n_init` explicitly to suppress the warning\n",
      "  super()._check_params_vs_input(X, default_n_init=10)\n"
     ]
    }
   ],
   "source": [
    "optimal_k = 2\n",
    "kmeans = KMeans(n_clusters=optimal_k, random_state=42)\n",
    "kmeans.fit(reduced_data)\n",
    "\n",
    "cancer_data['Cluster'] = kmeans.labels_\n"
   ]
  },
  {
   "cell_type": "code",
   "execution_count": 161,
   "metadata": {},
   "outputs": [
    {
     "data": {
      "image/png": "[encoded data removed]",
      "text/plain": [
       "<Figure size 432x288 with 2 Axes>"
      ]
     },
     "metadata": {
      "needs_background": "light"
     },
     "output_type": "display_data"
    }
   ],
   "source": [
    "plt.scatter(reduced_data[:, 0], reduced_data[:, 1], c=kmeans.labels_, cmap='viridis')\n",
    "plt.xlabel('Principal Component 1')\n",
    "plt.ylabel('Principal Component 2')\n",
    "plt.title('K-means Clustering on Reduced Cancer Data')\n",
    "plt.colorbar(label='Cluster')\n",
    "plt.show()\n"
   ]
  },
  {
   "cell_type": "markdown",
   "metadata": {},
   "source": [
    "Using PCA before K-means clustering offers valuable benefits by reducing the dataset to its most essential components, which simplifies the data and removes noise, allowing K-means to focus on the underlying patterns. This dimensionality reduction can improve clustering quality by enhancing separation between clusters and making them more interpretable, as we work with fewer, more meaningful dimensions. However, there are limitations to using PCA with K-means. PCA assumes linear relationships between features, so it may not fully capture complex, nonlinear structures in the data, potentially leading to less accurate clustering if significant nonlinear patterns are present. Additionally, while PCA maximizes variance, it doesn't necessarily preserve clustering-specific information, which might impact the results if some cluster characteristics are lost in the reduction process."
   ]
  },
  {
   "cell_type": "code",
   "execution_count": null,
   "metadata": {},
   "outputs": [],
   "source": []
  }
 ],
 "metadata": {
  "kernelspec": {
   "display_name": "base",
   "language": "python",
   "name": "python3"
  },
  "language_info": {
   "codemirror_mode": {
    "name": "ipython",
    "version": 3
   },
   "file_extension": ".py",
   "mimetype": "text/x-python",
   "name": "python",
   "nbconvert_exporter": "python",
   "pygments_lexer": "ipython3",
   "version": "3.8.8"
  },
  "orig_nbformat": 4
 },
 "nbformat": 4,
 "nbformat_minor": 2
}
