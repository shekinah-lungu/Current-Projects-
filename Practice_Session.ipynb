{
 "cells": [
  {
   "cell_type": "markdown",
   "metadata": {},
   "source": [
    "In a given center, n types of products are to be shipped where the number of parcels of product type i is denoted by quantity[i]. A truck can carry a maximum capacity number of parcels, with no more than max_parcels_of_same_type parcels of the same type. Find the minimum number of trucks needed to ship all parcels of all types from this center.\n",
    "\n",
    "Example Consider the number of types of products is n = 2, the quantity of each product type is quantity = [2, 4], the truck capacity is capacity = 3, and the maximum allowed quantity of a product type is max_parcels_of_same_type = 2."
   ]
  },
  {
   "cell_type": "code",
   "execution_count": null,
   "metadata": {},
   "outputs": [],
   "source": [
    "def min_Trucks(quantity, truck_size, max_unit):\n",
    "    #\n",
    "\n",
    "    return"
   ]
  },
  {
   "cell_type": "code",
   "execution_count": 6,
   "metadata": {},
   "outputs": [
    {
     "name": "stdout",
     "output_type": "stream",
     "text": [
      "2\n",
      "4\n"
     ]
    }
   ],
   "source": [
    "def min_trucks_needed(n, quantity, capacity, max_parcels_of_same_type):\n",
    "    total_trucks = 0\n",
    "    \n",
    "    while any(q > 0 for q in quantity):  # While there are still parcels to ship\n",
    "        total_trucks += 1  # Start a new truck\n",
    "        current_capacity = capacity\n",
    "        \n",
    "        for i in range(n):\n",
    "            while quantity[i] > 0 and current_capacity > 0:\n",
    "                # Take as many parcels as allowed (up to max_parcels_of_same_type and current truck capacity)\n",
    "                to_take = min(quantity[i], max_parcels_of_same_type, current_capacity)\n",
    "                quantity[i] -= to_take  # Reduce the quantity\n",
    "                current_capacity -= to_take  # Reduce the current truck capacity\n",
    "            \n",
    "    return total_trucks\n",
    "\n",
    "# Example usage:\n",
    "n1 = 2\n",
    "quantity1 = [2, 4]\n",
    "capacity1 = 3\n",
    "max_parcels_of_same_type1 = 2\n",
    "print(min_trucks_needed(n1, quantity1, capacity1, max_parcels_of_same_type1))  # Should print 2\n",
    "\n",
    "# Testing the previous scenario:\n",
    "n2 = 3\n",
    "quantity2 = [7, 8, 5]\n",
    "capacity2 = 5\n",
    "max_parcels_of_same_type2 = 2\n",
    "print(min_trucks_needed(n2, quantity2, capacity2, max_parcels_of_same_type2))  # Should print 4\n"
   ]
  },
  {
   "cell_type": "code",
   "execution_count": 8,
   "metadata": {},
   "outputs": [
    {
     "name": "stdout",
     "output_type": "stream",
     "text": [
      "3\n"
     ]
    }
   ],
   "source": [
    "# Example usage:\n",
    "n = 3\n",
    "quantity = [6,3,4]\n",
    "capacity = 5\n",
    "max_parcels_of_same_type = 4\n",
    "\n",
    "print(min_trucks_needed(n, quantity, capacity, max_parcels_of_same_type))  # Should print 4"
   ]
  },
  {
   "cell_type": "code",
   "execution_count": 9,
   "metadata": {},
   "outputs": [
    {
     "name": "stdout",
     "output_type": "stream",
     "text": [
      "7\n"
     ]
    }
   ],
   "source": [
    "# Example usage:\n",
    "n = 3\n",
    "quantity = [6,3,4]\n",
    "capacity = 2\n",
    "max_parcels_of_same_type = 4\n",
    "\n",
    "print(min_trucks_needed(n, quantity, capacity, max_parcels_of_same_type))  # Should print 4"
   ]
  }
 ],
 "metadata": {
  "kernelspec": {
   "display_name": "base",
   "language": "python",
   "name": "python3"
  },
  "language_info": {
   "codemirror_mode": {
    "name": "ipython",
    "version": 3
   },
   "file_extension": ".py",
   "mimetype": "text/x-python",
   "name": "python",
   "nbconvert_exporter": "python",
   "pygments_lexer": "ipython3",
   "version": "3.8.8"
  },
  "orig_nbformat": 4
 },
 "nbformat": 4,
 "nbformat_minor": 2
}
