{
 "cells": [
  {
   "cell_type": "markdown",
   "metadata": {},
   "source": [
    "In a given center, n types of products are to be shipped where the number of parcels of product type i is denoted by quantity[i]. A truck can carry a maximum capacity number of parcels, with no more than max_parcels_of_same_type parcels of the same type. Find the minimum number of trucks needed to ship all parcels of all types from this center.\n",
    "\n",
    "Example Consider the number of types of products is n = 2, the quantity of each product type is quantity = [2, 4], the truck capacity is capacity = 3, and the maximum allowed quantity of a product type is max_parcels_of_same_type = 2."
   ]
  },
  {
   "cell_type": "code",
   "execution_count": null,
   "metadata": {},
   "outputs": [],
   "source": []
  }
 ],
 "metadata": {
  "language_info": {
   "name": "python"
  },
  "orig_nbformat": 4
 },
 "nbformat": 4,
 "nbformat_minor": 2
}
