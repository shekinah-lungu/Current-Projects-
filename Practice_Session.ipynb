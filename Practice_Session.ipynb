{
 "cells": [
  {
   "cell_type": "markdown",
   "metadata": {},
   "source": [
    "In a given center, n types of products are to be shipped where the number of parcels of product type i is denoted by quantity[i]. A truck can carry a maximum capacity number of parcels, with no more than max_parcels_of_same_type parcels of the same type. Find the minimum number of trucks needed to ship all parcels of all types from this center.\n",
    "\n",
    "Example Consider the number of types of products is n = 2, the quantity of each product type is quantity = [2, 4], the truck capacity is capacity = 3, and the maximum allowed quantity of a product type is max_parcels_of_same_type = 2."
   ]
  },
  {
   "cell_type": "code",
   "execution_count": 43,
   "metadata": {},
   "outputs": [],
   "source": [
    "def min_Trucks(quantity, truck_size, max_unit):\n",
    "    truck = 0\n",
    "    while any(q>0 for q in quantity):\n",
    "        truck += 1\n",
    "        curr_capacity = truck_size\n",
    "        for i in range(len(quantity)):\n",
    "            if curr_capacity <= 0:  # If the truck is full, break\n",
    "                break\n",
    "            to_take = min(quantity[i], max_unit, curr_capacity)\n",
    "            curr_capacity -=to_take\n",
    "            quantity[i] -=to_take\n",
    "    return truck\n",
    "\n",
    "\n",
    "\n",
    "    return"
   ]
  },
  {
   "cell_type": "code",
   "execution_count": 44,
   "metadata": {},
   "outputs": [
    {
     "name": "stdout",
     "output_type": "stream",
     "text": [
      "3\n",
      "4\n"
     ]
    }
   ],
   "source": [
    "# Example usage:\n",
    "quantity1 = [2, 4]\n",
    "capacity1 = 3\n",
    "max_parcels_of_same_type1 = 2\n",
    "print(min_Trucks(quantity1, capacity1, max_parcels_of_same_type1))  # Should print 2\n",
    "\n",
    "# Testing the previous scenario:\n",
    "n2 = 3\n",
    "quantity2 = [7, 8, 5]\n",
    "capacity2 = 5\n",
    "max_parcels_of_same_type2 = 2\n",
    "print(min_Trucks( quantity2, capacity2, max_parcels_of_same_type2))  # Should print 4"
   ]
  },
  {
   "cell_type": "code",
   "execution_count": 38,
   "metadata": {},
   "outputs": [
    {
     "name": "stdout",
     "output_type": "stream",
     "text": [
      "2\n"
     ]
    }
   ],
   "source": [
    "quantity2 = [10]\n",
    "capacity2 = 5\n",
    "max_parcels_of_same_type2 = 2\n",
    "print(min_Trucks(quantity2, capacity2, max_parcels_of_same_type2))  # Should print 5\n"
   ]
  },
  {
   "cell_type": "code",
   "execution_count": 32,
   "metadata": {},
   "outputs": [
    {
     "name": "stdout",
     "output_type": "stream",
     "text": [
      "5\n"
     ]
    }
   ],
   "source": [
    "def min_trucks_needed(quantity, capacity, max_parcels_of_same_type):\n",
    "    trucks = 0\n",
    "    n = len(quantity)\n",
    "\n",
    "    # Continue until all quantities are shipped\n",
    "    while any(q > 0 for q in quantity):  \n",
    "        current_capacity = capacity  # Reset truck capacity for each truck\n",
    "        trucks += 1  # Assume we will need a new truck\n",
    "\n",
    "        for i in range(n):  # Check each product type\n",
    "            if current_capacity <= 0:  # If the truck is full, break\n",
    "                break\n",
    "\n",
    "            # Determine how much to take from quantity[i]\n",
    "            to_take = min(quantity[i], max_parcels_of_same_type, current_capacity)\n",
    "            quantity[i] -= to_take  # Update the quantity left\n",
    "            current_capacity -= to_take  # Reduce the current capacity\n",
    "\n",
    "    return trucks  # Return the total number of trucks used\n",
    "\n",
    "# Example usage\n",
    "n = 1\n",
    "quantity = [10]  # One product type with 10 parcels\n",
    "capacity = 5     # Truck can carry 5 parcels\n",
    "max_parcels_of_same_type = 2  # Max 2 parcels of each type per truck\n",
    "print(min_trucks_needed(quantity, capacity, max_parcels_of_same_type))  # Output: 5\n"
   ]
  },
  {
   "cell_type": "code",
   "execution_count": 47,
   "metadata": {},
   "outputs": [],
   "source": [
    "def extract_nft_names(nft_collection):\n",
    "    nft_names = []\n",
    "    for nft in nft_collection:\n",
    "        nft_names.append(nft[\"name\"])\n",
    "    return nft_names"
   ]
  },
  {
   "cell_type": "code",
   "execution_count": 48,
   "metadata": {},
   "outputs": [
    {
     "name": "stdout",
     "output_type": "stream",
     "text": [
      "['Abstract Horizon', 'Pixel Dreams']\n",
      "['Golden Hour']\n",
      "[]\n"
     ]
    }
   ],
   "source": [
    "nft_collection = [\n",
    "    {\"name\": \"Abstract Horizon\", \"creator\": \"ArtByAlex\", \"value\": 5.4},\n",
    "    {\"name\": \"Pixel Dreams\", \"creator\": \"DreamyPixel\", \"value\": 7.2}\n",
    "]\n",
    "\n",
    "nft_collection_2 = [\n",
    "    {\"name\": \"Golden Hour\", \"creator\": \"SunsetArtist\", \"value\": 8.9}\n",
    "]\n",
    "\n",
    "nft_collection_3 = []\n",
    "\n",
    "print(extract_nft_names(nft_collection))\n",
    "print(extract_nft_names(nft_collection_2))\n",
    "print(extract_nft_names(nft_collection_3))"
   ]
  },
  {
   "cell_type": "code",
   "execution_count": 67,
   "metadata": {},
   "outputs": [],
   "source": [
    "def identify_popular_creators(nft_collection):\n",
    "    new_dict = {}\n",
    "    for i in nft_collection:\n",
    "        if i[\"creator\"] in new_dict:\n",
    "            new_dict[i[\"creator\"]] +=1\n",
    "        else:\n",
    "            new_dict[i[\"creator\"]] =1  #o(n)\n",
    "    if len(new_dict) ==1:\n",
    "        return []\n",
    "    return [max(new_dict, key=new_dict.get)] #o(n)\n",
    "#total time complexity o(n) + o(n) = o(n)\n"
   ]
  },
  {
   "cell_type": "code",
   "execution_count": 68,
   "metadata": {},
   "outputs": [
    {
     "name": "stdout",
     "output_type": "stream",
     "text": [
      "['ArtByAlex']\n",
      "['SpaceArt']\n",
      "[]\n"
     ]
    }
   ],
   "source": [
    "nft_collection = [\n",
    "    {\"name\": \"Abstract Horizon\", \"creator\": \"ArtByAlex\", \"value\": 5.4},\n",
    "    {\"name\": \"Pixel Dreams\", \"creator\": \"DreamyPixel\", \"value\": 7.2},\n",
    "    {\"name\": \"Urban Jungle\", \"creator\": \"ArtByAlex\", \"value\": 4.5}\n",
    "]\n",
    "\n",
    "nft_collection_2 = [\n",
    "    {\"name\": \"Crypto Kitty\", \"creator\": \"CryptoPets\", \"value\": 10.5},\n",
    "    {\"name\": \"Galactic Voyage\", \"creator\": \"SpaceArt\", \"value\": 6.7},\n",
    "    {\"name\": \"Future Galaxy\", \"creator\": \"SpaceArt\", \"value\": 8.3}\n",
    "]\n",
    "\n",
    "nft_collection_3 = [\n",
    "    {\"name\": \"Golden Hour\", \"creator\": \"SunsetArtist\", \"value\": 8.9}\n",
    "]\n",
    "\n",
    "print(identify_popular_creators(nft_collection))\n",
    "print(identify_popular_creators(nft_collection_2))\n",
    "print(identify_popular_creators(nft_collection_3))"
   ]
  },
  {
   "cell_type": "code",
   "execution_count": 71,
   "metadata": {},
   "outputs": [],
   "source": [
    "def average_nft_value(nft_collection):\n",
    "    n = len(nft_collection)\n",
    "    sum = 0\n",
    "    if n == 0:\n",
    "        return 0\n",
    "    for i in nft_collection: #o(n)\n",
    "        sum += i[\"value\"]\n",
    "    return (sum/n)"
   ]
  },
  {
   "cell_type": "code",
   "execution_count": 72,
   "metadata": {},
   "outputs": [
    {
     "name": "stdout",
     "output_type": "stream",
     "text": [
      "5.7\n",
      "9.15\n",
      "0\n"
     ]
    }
   ],
   "source": [
    "nft_collection = [\n",
    "    {\"name\": \"Abstract Horizon\", \"creator\": \"ArtByAlex\", \"value\": 5.4},\n",
    "    {\"name\": \"Pixel Dreams\", \"creator\": \"DreamyPixel\", \"value\": 7.2},\n",
    "    {\"name\": \"Urban Jungle\", \"creator\": \"ArtByAlex\", \"value\": 4.5}\n",
    "]\n",
    "print(average_nft_value(nft_collection))\n",
    "\n",
    "nft_collection_2 = [\n",
    "    {\"name\": \"Golden Hour\", \"creator\": \"SunsetArtist\", \"value\": 8.9},\n",
    "    {\"name\": \"Sunset Serenade\", \"creator\": \"SunsetArtist\", \"value\": 9.4}\n",
    "]\n",
    "print(average_nft_value(nft_collection_2))\n",
    "\n",
    "nft_collection_3 = []\n",
    "print(average_nft_value(nft_collection_3))"
   ]
  },
  {
   "cell_type": "code",
   "execution_count": 87,
   "metadata": {},
   "outputs": [],
   "source": [
    "def search_nft_by_tag(nft_collections, tag):\n",
    "    res = []\n",
    "    for i in nft_collections:\n",
    "        for j in i:\n",
    "            # print(j)\n",
    "            if j[\"tags\"][0] == tag:\n",
    "                res.append(j[\"name\"])\n",
    "            elif j[\"tags\"][1] == tag:\n",
    "                 res.append(j[\"name\"])\n",
    "    return res\n"
   ]
  },
  {
   "cell_type": "code",
   "execution_count": 89,
   "metadata": {},
   "outputs": [
    {
     "name": "stdout",
     "output_type": "stream",
     "text": [
      "['Urban Jungle', 'City Lights']\n",
      "['Golden Hour', 'Sunset Serenade']\n",
      "[]\n"
     ]
    }
   ],
   "source": [
    "nft_collections = [\n",
    "    [\n",
    "        {\"name\": \"Abstract Horizon\", \"tags\": [\"abstract\", \"modern\"]},\n",
    "        {\"name\": \"Pixel Dreams\", \"tags\": [\"pixel\", \"retro\"]}\n",
    "    ],\n",
    "    [\n",
    "        {\"name\": \"Urban Jungle\", \"tags\": [\"urban\", \"landscape\"]},\n",
    "        {\"name\": \"City Lights\", \"tags\": [\"modern\", \"landscape\"]}\n",
    "    ]\n",
    "]\n",
    "\n",
    "nft_collections_2 = [\n",
    "    [\n",
    "        {\"name\": \"Golden Hour\", \"tags\": [\"sunset\", \"landscape\"]},\n",
    "        {\"name\": \"Sunset Serenade\", \"tags\": [\"sunset\", \"serene\"]}\n",
    "    ],\n",
    "    [\n",
    "        {\"name\": \"Pixel Odyssey\", \"tags\": [\"pixel\", \"adventure\"]}\n",
    "    ]\n",
    "]\n",
    "\n",
    "nft_collections_3 = [\n",
    "    [\n",
    "        {\"name\": \"The Last Piece\", \"tags\": [\"finale\", \"abstract\"]}\n",
    "    ],\n",
    "    [\n",
    "        {\"name\": \"Ocean Waves\", \"tags\": [\"seascape\", \"calm\"]},\n",
    "        {\"name\": \"Mountain Peak\", \"tags\": [\"landscape\", \"adventure\"]}\n",
    "    ]\n",
    "]\n",
    "\n",
    "print(search_nft_by_tag(nft_collections, \"landscape\"))\n",
    "print(search_nft_by_tag(nft_collections_2, \"sunset\"))\n",
    "print(search_nft_by_tag(nft_collections_3, \"modern\"))"
   ]
  },
  {
   "cell_type": "code",
   "execution_count": 93,
   "metadata": {},
   "outputs": [],
   "source": [
    "def process_nft_queue(nft_queue):\n",
    "    res =[]\n",
    "    for i in nft_queue:\n",
    "        res.append(i[\"name\"])\n",
    "    return res"
   ]
  },
  {
   "cell_type": "code",
   "execution_count": 94,
   "metadata": {},
   "outputs": [
    {
     "name": "stdout",
     "output_type": "stream",
     "text": [
      "['Abstract Horizon', 'Pixel Dreams', 'Urban Jungle']\n",
      "['Golden Hour', 'Sunset Serenade', 'Ocean Waves']\n",
      "['Crypto Kitty', 'Galactic Voyage']\n"
     ]
    }
   ],
   "source": [
    "nft_queue = [\n",
    "    {\"name\": \"Abstract Horizon\", \"processing_time\": 2},\n",
    "    {\"name\": \"Pixel Dreams\", \"processing_time\": 3},\n",
    "    {\"name\": \"Urban Jungle\", \"processing_time\": 1}\n",
    "]\n",
    "print(process_nft_queue(nft_queue))\n",
    "\n",
    "nft_queue_2 = [\n",
    "    {\"name\": \"Golden Hour\", \"processing_time\": 4},\n",
    "    {\"name\": \"Sunset Serenade\", \"processing_time\": 2},\n",
    "    {\"name\": \"Ocean Waves\", \"processing_time\": 3}\n",
    "]\n",
    "print(process_nft_queue(nft_queue_2))\n",
    "\n",
    "nft_queue_3 = [\n",
    "    {\"name\": \"Crypto Kitty\", \"processing_time\": 5},\n",
    "    {\"name\": \"Galactic Voyage\", \"processing_time\": 6}\n",
    "]\n",
    "print(process_nft_queue(nft_queue_3))"
   ]
  },
  {
   "cell_type": "code",
   "execution_count": 110,
   "metadata": {},
   "outputs": [],
   "source": [
    "class Node:\n",
    "    def __init__(self, value, next=None):\n",
    "        self.value = value\n",
    "        self.next = next\n",
    "\n",
    "# For testing\n",
    "def print_linked_list(head):\n",
    "    current = head\n",
    "    while current:\n",
    "        print(current.value, end=\" -> \" if current.next else \"\\n\")\n",
    "        current = current.next\n",
    "\n",
    "def find_max(head):\n",
    "    new_node = head\n",
    "    max_val = 0\n",
    "    while new_node:\n",
    "        if new_node.value > max_val:\n",
    "            max_val = new_node.value\n",
    "        new_node = new_node.next\n",
    "    return max_val "
   ]
  },
  {
   "cell_type": "code",
   "execution_count": null,
   "metadata": {},
   "outputs": [],
   "source": [
    "def find_max(head):\n",
    "    maximum = 0\n",
    "    current = head\n",
    "    while current:\n",
    "        if current.value > maximum:\n",
    "            maximum = current.value\n",
    "        current = current.next\n",
    "    return maximum"
   ]
  },
  {
   "cell_type": "code",
   "execution_count": 111,
   "metadata": {},
   "outputs": [
    {
     "name": "stdout",
     "output_type": "stream",
     "text": [
      "8\n",
      "8\n"
     ]
    }
   ],
   "source": [
    "head1 = Node(5, Node(6, Node(7, Node(8))))\n",
    "\n",
    "# Linked List: 5 -> 6 -> 7 -> 8\n",
    "print(find_max(head1))\n",
    "\n",
    "head2 = Node(5, Node(8, Node(6, Node(7))))\n",
    "\n",
    "# Linked List: 5 -> 8 -> 6 -> 7\n",
    "print(find_max(head2))"
   ]
  }
 ],
 "metadata": {
  "kernelspec": {
   "display_name": "base",
   "language": "python",
   "name": "python3"
  },
  "language_info": {
   "codemirror_mode": {
    "name": "ipython",
    "version": 3
   },
   "file_extension": ".py",
   "mimetype": "text/x-python",
   "name": "python",
   "nbconvert_exporter": "python",
   "pygments_lexer": "ipython3",
   "version": "3.8.8"
  },
  "orig_nbformat": 4
 },
 "nbformat": 4,
 "nbformat_minor": 2
}
